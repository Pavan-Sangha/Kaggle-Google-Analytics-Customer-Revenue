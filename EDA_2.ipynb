{
  "cells": [
    {
      "metadata": {
        "_uuid": "8f2839f25d086af736a60e9eeb907d3b93b6e0e5",
        "_cell_guid": "b1076dfc-b9ad-4769-8c92-a6c4dae69d19",
        "trusted": true
      },
      "cell_type": "code",
      "source": "# This Python 3 environment comes with many helpful analytics libraries installed\n# It is defined by the kaggle/python docker image: https://github.com/kaggle/docker-python\n# For example, here's several helpful packages to load in \n\nimport numpy as np # linear algebra\nimport pandas as pd # data processing, CSV file I/O (e.g. pd.read_csv)\nimport pymc3\nimport json\nfrom pandas.io.json import json_normalize\nimport sklearn\nfrom sklearn.model_selection import train_test_split\nimport seaborn as sns\n\n\n# Input data files are available in the \"../input/\" directory.\n# For example, running this (by clicking run or pressing Shift+Enter) will list the files in the input directory\n\nimport os\nprint(os.listdir(\"../input\"))\n\n# Any results you write to the current directory are saved as output.",
      "execution_count": null,
      "outputs": []
    },
    {
      "metadata": {
        "_uuid": "6346bdcb1c8efa33124ec10847bb11a78a483352"
      },
      "cell_type": "markdown",
      "source": "# Utility functions"
    },
    {
      "metadata": {
        "trusted": true,
        "_uuid": "110806cf9021c1c62d9aec72f45133e85c5da94a"
      },
      "cell_type": "code",
      "source": "# This function allows us to flatten out the columns in the pandas dataframe which are in the json format\n\ndef load_df(csv_path='../input/train.csv', JSON_COLUMNS = ['device', 'geoNetwork', 'totals', 'trafficSource']):\n\n    df = pd.read_csv(csv_path, \n                     converters={column: json.loads for column in JSON_COLUMNS}, \n                     dtype={'fullVisitorId': 'str'})\n    \n    for column in JSON_COLUMNS:\n        column_as_df = json_normalize(df[column])\n        column_as_df.columns = [f\"{column}.{subcolumn}\" for subcolumn in column_as_df.columns]\n        df = df.drop(column, axis=1).merge(column_as_df, right_index=True, left_index=True)\n\n    return df\n\ndef column_type(dataFrame):\n    \n    type_keys = np.array(dataFrame.dtypes.unique())\n    \n    Dict = {object_type:[] for object_type in type_keys }\n    \n    for column in dataFrame.columns:\n        Dict[dataFrame[column].dtype].append(column)\n    \n    return Dict\n\n\ndef column_counts(dataFrame, threshold):\n    \n    type_keys = np.array(dataFrame.dtypes.unique())\n    \n    Dict = {object_type:{} for object_type in type_keys}\n    \n    for column in dataFrame.columns:\n        \n        if len(dataFrame[column].unique()) <= threshold:\n            \n            Dict[dataFrame[column].dtype][column] = len(dataFrame[column].unique())\n            \n    return Dict\n\n\n\ndef date_time_conversion(dataFrame, column, year = 0, month = 0, day = 0, weekday = 0, unit = None ,errors = None , format = None):\n    \n    dataFrame[column] = pd.to_datetime(dataFrame[column], format = format, errors = errors, unit = unit)\n    \n    if year: \n        dataFrame[column+'_year'] = dataFrame[column].apply(lambda x: x.year)\n    \n    if month:\n        dataFrame[column+'_month'] = dataFrame[column].apply(lambda x: x.month)\n        \n    if day:\n        dataFrame[column+'_day'] = dataFrame[column].apply(lambda x: x.day)\n        \n    if weekday:\n        dataFrame[column+'_weekday'] = dataFrame[column].apply(lambda x: x.weekday())\n    \n    return dataFrame\n        \n    \n    \n    \n    \n\n    \n\n\n    \n    \n    \n    ",
      "execution_count": null,
      "outputs": []
    },
    {
      "metadata": {
        "_uuid": "526ab7ebdd6964bab0c8cbb05effa3fcf2e26728"
      },
      "cell_type": "markdown",
      "source": "# Analysis Functions"
    },
    {
      "metadata": {
        "trusted": true,
        "_uuid": "f5c98af2b9e9437790766c559444611195e686d6"
      },
      "cell_type": "code",
      "source": "def NaN_value_count(dataFrame):\n    for column in dataFrame.columns:\n        print('column name:'+str(column))\n        print('number of NaN values: '+str(dataFrame[column].isnull().sum() ))\n        print('percentage of NaN values: '+str(dataFrame[column].isnull().sum()/dataFrame.shape[0] ))\n        print('------------')\n\n        \ndef count_distribution(dataFrame,column):\n    column_count = pd.Series.to_frame(dataFrame.groupby(column).size(),'count')\n    column_count.reset_index(inplace = True)\n    total = column_count['count'].sum()\n    column_count['proportion'] = column_count['count']/total\n    return column_count",
      "execution_count": null,
      "outputs": []
    },
    {
      "metadata": {
        "_uuid": "134259c2fc3c78621af35a94da149a3a970e3d9e"
      },
      "cell_type": "markdown",
      "source": "# Loading the data\n"
    },
    {
      "metadata": {
        "_uuid": "071a5415fbbcad1b21ed7020a1df1e62bfc41460"
      },
      "cell_type": "markdown",
      "source": "### required"
    },
    {
      "metadata": {
        "_cell_guid": "79c7e3d0-c299-4dcb-8224-4455121ee9b0",
        "_uuid": "d629ff2d2480ee46fbb7e2d37f6b5fab8052498a",
        "trusted": true
      },
      "cell_type": "code",
      "source": "train_unflatten = pd.read_csv(\"../input/train.csv\")\n",
      "execution_count": null,
      "outputs": []
    },
    {
      "metadata": {
        "trusted": true,
        "_uuid": "3aa7f1d1905a4e451747536cee03d431a04c54e5"
      },
      "cell_type": "code",
      "source": "test_unflatten  = pd.read_csv(\"../input/test.csv\")",
      "execution_count": null,
      "outputs": []
    },
    {
      "metadata": {
        "trusted": true,
        "_uuid": "044686b0d677113637e70fd8b4be7c20e67d40ec"
      },
      "cell_type": "code",
      "source": "df_train = load_df()",
      "execution_count": null,
      "outputs": []
    },
    {
      "metadata": {
        "trusted": true,
        "_uuid": "e94c383e86fcce3e42061b136bd7adecd435bd20"
      },
      "cell_type": "code",
      "source": "df_test = load_df(csv_path='../input/test.csv')",
      "execution_count": null,
      "outputs": []
    },
    {
      "metadata": {
        "trusted": true,
        "_uuid": "2e12dcc3451610d34769cb9aaf402c8b43c5c80e"
      },
      "cell_type": "code",
      "source": "# Adding the relevant transaction values to the training set\n\ndf_train[\"totals.transactionRevenue\"].fillna(0, inplace=True)",
      "execution_count": null,
      "outputs": []
    },
    {
      "metadata": {
        "trusted": true,
        "_uuid": "271f634f758e274a9d979ae25eb22f0771b45d43"
      },
      "cell_type": "code",
      "source": "",
      "execution_count": null,
      "outputs": []
    },
    {
      "metadata": {
        "_uuid": "3fdb95c26a19981c897e044198f25cdb9cc3c650"
      },
      "cell_type": "markdown",
      "source": "### analysis"
    },
    {
      "metadata": {
        "trusted": true,
        "_uuid": "07106346f69313f8b400672ed3c7a870b533bceb"
      },
      "cell_type": "code",
      "source": "# print unique id's in training set\n# print total transactions in training set\nprint(len(train_unflatten['fullVisitorId'].unique()))\nprint(train_unflatten.shape[0])",
      "execution_count": null,
      "outputs": []
    },
    {
      "metadata": {
        "trusted": true,
        "_uuid": "b028d5bfda0a54fc80f6b0fddbcfba7dc3c4a72c"
      },
      "cell_type": "code",
      "source": "df_train.head()",
      "execution_count": null,
      "outputs": []
    },
    {
      "metadata": {
        "trusted": true,
        "_uuid": "11cddc9baa226310cbf6c3fb88d374253e409b5e"
      },
      "cell_type": "code",
      "source": "# print unique id's in test set\n# print total transactions in test set\n\nprint(len(test_unflatten['fullVisitorId'].unique()))\nprint(test_unflatten.shape[0])",
      "execution_count": null,
      "outputs": []
    },
    {
      "metadata": {
        "trusted": true,
        "_uuid": "4958365acff06ddfe1835a12af034f8353f95137"
      },
      "cell_type": "code",
      "source": "df_test.head()",
      "execution_count": null,
      "outputs": []
    },
    {
      "metadata": {
        "_uuid": "71ec4a4e489d1ae03216c33ba51bfb53fce61449"
      },
      "cell_type": "markdown",
      "source": "# Preprocessing the data\n"
    },
    {
      "metadata": {
        "_uuid": "8d6ae62a5bc173f0e3cf44350682d7a5f96ceacf"
      },
      "cell_type": "markdown",
      "source": "### required"
    },
    {
      "metadata": {
        "trusted": true,
        "_uuid": "c5a97a455bff6cfa068800a84751698ded639bc8"
      },
      "cell_type": "code",
      "source": "# Types of columns that have a total number of unique values less than a threshold\n# note if we set threshold = 1 we are looking for constant columns. \n\nconstant_column_dict = column_counts(df_train, threshold = 1)\ncolumn_counts(df_train,threshold = 3)",
      "execution_count": null,
      "outputs": []
    },
    {
      "metadata": {
        "trusted": true,
        "_uuid": "0dc22066df48533c49fb758d677e7e27e7b01045"
      },
      "cell_type": "code",
      "source": "# Lets start by removing any constant columns \n\nconstant_dict_key_list = list(constant_column_dict.keys())\nconstant_columns = list(constant_column_dict[constant_dict_key_list[0]].keys())\nconstant_columns\ndf_train = df_train.drop(constant_columns+['trafficSource.campaignCode'], axis = 1)\n#['trafficSource.campaignCode']\ndf_test = df_test.drop(constant_columns, axis = 1)",
      "execution_count": null,
      "outputs": []
    },
    {
      "metadata": {
        "_uuid": "7932a3acc59b1e18dae13808605350892b2eead0"
      },
      "cell_type": "markdown",
      "source": "### Analysis"
    },
    {
      "metadata": {
        "trusted": true,
        "_uuid": "4befd40b9c02a8dc5c93f1857f1e04465f047dd6"
      },
      "cell_type": "code",
      "source": "# Visualise the types of columns we have in our dataFrame\ncolumn_type(df_train)",
      "execution_count": null,
      "outputs": []
    },
    {
      "metadata": {
        "trusted": true,
        "_uuid": "ec06640da4edc43ebb456977919ab3b621f24f17",
        "scrolled": true
      },
      "cell_type": "code",
      "source": "# Types of columns that have a total number of unique values less than a threshold\n# note if we set threshold = 1 we are looking for constant columns. \n\nconstant_column_dict = column_counts(df_train, threshold = 1)\ncolumn_counts(df_train,threshold = 3)",
      "execution_count": null,
      "outputs": []
    },
    {
      "metadata": {
        "_uuid": "17d807872b6cc27edbd9e8722779f76b59c185e2"
      },
      "cell_type": "markdown",
      "source": "\nThe following columns have the following number of unique entries\n\n{dtype('O'): {'socialEngagementType': 1,\n  'device.browserSize': 1,\n  'device.browserVersion': 1,\n  'device.deviceCategory': 3,\n  'device.flashVersion': 1,\n  'device.language': 1,\n  'device.mobileDeviceBranding': 1,\n  'device.mobileDeviceInfo': 1,\n  'device.mobileDeviceMarketingName': 1,\n  'device.mobileDeviceModel': 1,\n  'device.mobileInputSelector': 1,\n  'device.operatingSystemVersion': 1,\n  'device.screenColors': 1,\n  'device.screenResolution': 1,\n  'geoNetwork.cityId': 1,\n  'geoNetwork.latitude': 1,\n  'geoNetwork.longitude': 1,\n  'geoNetwork.networkLocation': 1,\n  'totals.bounces': 2,\n  'totals.newVisits': 2,\n  'totals.visits': 1,\n  'trafficSource.adwordsClickInfo.adNetworkType': 3,\n  'trafficSource.adwordsClickInfo.criteriaParameters': 1,\n  'trafficSource.adwordsClickInfo.isVideoAd': 2,\n  'trafficSource.adwordsClickInfo.slot': 3,\n  'trafficSource.campaignCode': 2,\n  'trafficSource.isTrueDirect': 2},\n dtype('int64'): {},\n dtype('bool'): {'device.isMobile': 2}}"
    },
    {
      "metadata": {
        "trusted": true,
        "_uuid": "05ddb5d99acca286b40222a7b13cdf32e471ada1"
      },
      "cell_type": "code",
      "source": "# We can check that a list of columns have been successfully removed\ndf_train.head()\ndf_train.shape",
      "execution_count": null,
      "outputs": []
    },
    {
      "metadata": {
        "_uuid": "4f1fed9e5367e88509a70b2cc9e2e21faa1a3124"
      },
      "cell_type": "markdown",
      "source": "## Preprocessing Date/time features"
    },
    {
      "metadata": {
        "_uuid": "5b40d49c85ef41d374e0c933ee0694eb59b9d74f"
      },
      "cell_type": "markdown",
      "source": "### Required"
    },
    {
      "metadata": {
        "trusted": true,
        "_uuid": "f6d31c1fec15d33549a0fda3b6906b6f481a3abd"
      },
      "cell_type": "code",
      "source": "# lets change the relevant columns to datetime ones \ndate_time_conversion(df_train, column = 'date', year = 1, month = 1, day = 1, weekday = 1, unit = None, errors = 'ignore', format = '%Y%m%d')\n",
      "execution_count": null,
      "outputs": []
    },
    {
      "metadata": {
        "trusted": true,
        "_uuid": "57e47f0b670d0433a43c50304fedc4091f05e961"
      },
      "cell_type": "code",
      "source": "date_time_conversion(df_train,column='visitStartTime', year = 1, month = 1, day = 1, weekday = 1,unit='s',errors='ignore')",
      "execution_count": null,
      "outputs": []
    },
    {
      "metadata": {
        "_uuid": "fca247eb84091872bd4b96669234bf685de8c1ca"
      },
      "cell_type": "markdown",
      "source": "### Analysis "
    },
    {
      "metadata": {
        "trusted": true,
        "_uuid": "65c5320beeb9693f6530da93111be1fe0fa2484c"
      },
      "cell_type": "code",
      "source": "df_train.columns",
      "execution_count": null,
      "outputs": []
    },
    {
      "metadata": {
        "_uuid": "f0a3c83f0098bf0185f15171c2b2b2bd2bb6ebb5"
      },
      "cell_type": "markdown",
      "source": "\n\nInfo on some of the fields \n\n*fullVisitorId- A unique identifier for each user of the Google Merchandise Store.\n*channelGrouping - The channel via which the user came to the Store.\n*date - The date on which the user visited the Store.\n*device - The specifications for the device used to access the Store.\n*geoNetwork - This section contains information about the geography of the user.\n*sessionId - A unique identifier for this visit to the store.\n*socialEngagementType - Engagement type, either \"Socially Engaged\" or \"Not Socially Engaged\".\n*totals - This section contains aggregate values across the session.\n*trafficSource - This section contains information about the Traffic Source from which the session originated.\n*visitId - An identifier for this session. This is part of the value usually stored as the _utmb cookie. This is only unique to the user. For a completely unique ID, you *should use a combination of fullVisitorId and visitId.\n*visitNumber - The session number for this user. If this is the first session, then this is set to 1.\n*visitStartTime - The timestamp (expressed as POSIX time)."
    },
    {
      "metadata": {
        "trusted": true,
        "_uuid": "8775286f24660c5977df5811110c7adb1a6ec6a0"
      },
      "cell_type": "markdown",
      "source": "# Create training and validation set ordered by date"
    },
    {
      "metadata": {
        "_uuid": "5c784d73152870af3520129d169034afa5cb3c1a"
      },
      "cell_type": "markdown",
      "source": "### required "
    },
    {
      "metadata": {
        "trusted": true,
        "_uuid": "6e3fdd2a4ddced3bf07c4461e7781cbf6d2d84cb"
      },
      "cell_type": "code",
      "source": "# sort the rows via date first\ndf_train.sort_values(by='date', inplace= True)",
      "execution_count": null,
      "outputs": []
    },
    {
      "metadata": {
        "trusted": true,
        "_uuid": "45cb7a98d9d66df839a553e616b094d1e1e992ec"
      },
      "cell_type": "code",
      "source": "# obtain an index according to split size\n\nsplit_size = 0.7\nindex = df_train.shape[0]*split_size\nsplit_index = int(index)",
      "execution_count": null,
      "outputs": []
    },
    {
      "metadata": {
        "trusted": true,
        "_uuid": "a4bacf75b6081a7a0a2a76f33d34157770658e8b"
      },
      "cell_type": "code",
      "source": "train = df_train.iloc[:split_index,:]\nval = df_train.iloc[split_index:,:]\ntrain[\"totals.transactionRevenue\"] = train[\"totals.transactionRevenue\"].astype('float')\nval[\"totals.transactionRevenue\"] = val[\"totals.transactionRevenue\"].astype('float')",
      "execution_count": null,
      "outputs": []
    },
    {
      "metadata": {
        "_uuid": "89c34225bc876e0af478347dcd48f99ef279e720"
      },
      "cell_type": "markdown",
      "source": "### Analysis"
    },
    {
      "metadata": {
        "trusted": true,
        "scrolled": true,
        "_uuid": "105dd672a578d7d882240243ff626a6b12bc2f4f"
      },
      "cell_type": "code",
      "source": "train.columns",
      "execution_count": null,
      "outputs": []
    },
    {
      "metadata": {
        "trusted": true,
        "_uuid": "fe6ec0837300cd25bd1b775c726cc5e381621e68"
      },
      "cell_type": "code",
      "source": "train.head()\n",
      "execution_count": null,
      "outputs": []
    },
    {
      "metadata": {
        "trusted": true,
        "_uuid": "64e2fc292337a89c4ded0c7622ddc3fd11b16cab"
      },
      "cell_type": "code",
      "source": "val.head()",
      "execution_count": null,
      "outputs": []
    },
    {
      "metadata": {
        "_uuid": "d625e4fa83c6d3ebb1642d5fb4b2253b504e5b9e"
      },
      "cell_type": "markdown",
      "source": "# feature analysis"
    },
    {
      "metadata": {
        "_uuid": "d4670c967358e1f0c6b27ccef402d6526ccb1ebb"
      },
      "cell_type": "markdown",
      "source": "### required"
    },
    {
      "metadata": {
        "_uuid": "ce9ee200a52d7c5767080adc5a5715a99d369ef3",
        "trusted": true
      },
      "cell_type": "code",
      "source": "# Lets create a variable which one-hot-encodes whether a transaction value is 0 or not\ntransaction_series = train['totals.transactionRevenue'] \ntrain['is_transaction'] = transaction_series.apply(lambda x:1 if x>0 else 0)",
      "execution_count": null,
      "outputs": []
    },
    {
      "metadata": {
        "_uuid": "0163437b8ce791f97827600c76d683559418a080"
      },
      "cell_type": "markdown",
      "source": "### analysis"
    },
    {
      "metadata": {
        "trusted": true,
        "_uuid": "c9da9c157c9ffb4890b4421d368cdc28287ff7da"
      },
      "cell_type": "code",
      "source": "train.head()",
      "execution_count": null,
      "outputs": []
    },
    {
      "metadata": {
        "trusted": true,
        "_uuid": "b6597aa0984ab3b7f58beeed80d892e040a84a3c"
      },
      "cell_type": "code",
      "source": "# let's start by listing all the columns we are looking at \n\ntrain.columns",
      "execution_count": null,
      "outputs": []
    },
    {
      "metadata": {
        "trusted": true,
        "_uuid": "05ddb05b6a1ef1c4c087be371ec3b8ef6b13456d"
      },
      "cell_type": "code",
      "source": "# lets get the variable types of the new features in the training set \ncolumn_type(train)",
      "execution_count": null,
      "outputs": []
    },
    {
      "metadata": {
        "_uuid": "ee7845923072771b04eb62ec630c75eb93532e9d"
      },
      "cell_type": "markdown",
      "source": "{dtype('O'): ['channelGrouping',\n  'fullVisitorId',\n  'sessionId',\n  'device.browser',\n  'device.deviceCategory',\n  'device.operatingSystem',\n  'geoNetwork.city',\n  'geoNetwork.continent',\n  'geoNetwork.country',\n  'geoNetwork.metro',\n  'geoNetwork.networkDomain',\n  'geoNetwork.region',\n  'geoNetwork.subContinent',\n  'totals.bounces',\n  'totals.hits',\n  'totals.newVisits',\n  'totals.pageviews',\n  'trafficSource.adContent',\n  'trafficSource.adwordsClickInfo.adNetworkType',\n  'trafficSource.adwordsClickInfo.gclId',\n  'trafficSource.adwordsClickInfo.isVideoAd',\n  'trafficSource.adwordsClickInfo.page',\n  'trafficSource.adwordsClickInfo.slot',\n  'trafficSource.campaign',\n  'trafficSource.isTrueDirect',\n  'trafficSource.keyword',\n  'trafficSource.medium',\n  'trafficSource.referralPath',\n  'trafficSource.source'],\n dtype('<M8[ns]'): ['date', 'visitStartTime'],\n dtype('int64'): ['visitId',\n  'visitNumber',\n  'date_year',\n  'date_month',\n  'date_day',\n  'date_weekday',\n  'visitStartTime_year',\n  'visitStartTime_month',\n  'visitStartTime_day',\n  'visitStartTime_weekday'],\n dtype('bool'): ['device.isMobile'],\n dtype('float64'): ['totals.transactionRevenue']}"
    },
    {
      "metadata": {
        "_uuid": "2e253557ecc5c0ec1d0638cfb4afd1500fb9dc5d"
      },
      "cell_type": "markdown",
      "source": "## feature distribution: device info"
    },
    {
      "metadata": {
        "_uuid": "7debcfda5f84e3f163252af45c151478d27c66bb"
      },
      "cell_type": "markdown",
      "source": "### device browser"
    },
    {
      "metadata": {
        "trusted": true,
        "_uuid": "164af3496ac1bdb3811ac3f0ef88b5cb182e0faa"
      },
      "cell_type": "code",
      "source": "### device browser \n# most device browsers are either chrome 67% or safari 21% anything else can be encoded as OTHER\n\n#sns.countplot(x = 'device.browser', data = train)\n\ndevice_browser_info = count_distribution(train,'device.browser')\ndevice_browser_info\n\n\n",
      "execution_count": null,
      "outputs": []
    },
    {
      "metadata": {
        "trusted": true,
        "_uuid": "387a5c88c46ddd6e94b1cbe2e366d4c8edceecf4"
      },
      "cell_type": "code",
      "source": "\n# lets do a group by of total transaction value by device browser\n\nbrowser_transaction_values = train.groupby('device.browser').agg({'totals.transactionRevenue':{'transactionRevSum':np.sum,'transactionRevMean':np.mean},'is_transaction':{'is_transaction_sum':np.sum}     })\nbrowser_transaction_values.reset_index(inplace = True)\nbrowser_transaction_values.columns = browser_transaction_values.columns.droplevel(0)\nbrowser_transaction_values['transactionRev_proportion'] = browser_transaction_values['transactionRevSum']/train['totals.transactionRevenue'].sum()\nbrowser_transaction_values['is_transaction_proportion'] = browser_transaction_values['is_transaction_sum']/train['is_transaction'].sum()\nbrowser_transaction_values\n\n\n#pd.merge(device_browser_info,browser_transaction_values,on = 'device.browser')\n\n###### Notes \n\n# can we possibly frequency encode the device browser column since clearly higher frequency tends to lead to a higher transaction revenue\n# can we look at the variance of the transaction Revenue across different proportional bands.\n# We expect to see an upward trend. ",
      "execution_count": null,
      "outputs": []
    },
    {
      "metadata": {
        "trusted": true,
        "_uuid": "847a684eb2a7bc287e5f098fa57529443725e407"
      },
      "cell_type": "code",
      "source": "x = device_browser_info['proportion']\ny = browser_transaction_values['transactionRevMean']\nsns.scatterplot(x,y)",
      "execution_count": null,
      "outputs": []
    },
    {
      "metadata": {
        "_uuid": "969ee91d16d664fe887883ac613e9b4990156a29"
      },
      "cell_type": "markdown",
      "source": "### Device browser report\n* Clearly the plot indicates it maybe possible to use frequency encoding here especially as for a few of the browsers the number of data points which have a transaction may not be that many. \n* At the moment we are looking at $\\mathbb{P}(\\textbf{device_type})$ VS $\\mathbb{E}(\\textbf{revenue}\\; | \\;\\textbf{device_type})$ thinking that the higher the probability of device type the larger the expected revenue.\n* The caveat here is that there are few cases where the $\\mathbb{P}(\\textbf{device_type})$ might be low but $\\mathbb{E}(\\textbf{revenue} | \\textbf{device_type})$ is higher. So account for this it's possible we could try the following\n* One thing we might want to consider is the following $\\mathbb{P}(\\textbf{is_transaction} \\equiv 1\\;|\\;\\textbf{device_type})$ VS $\\mathbb{E}(\\textbf{revenue}\\;|\\; \\textbf{device_type})$ with the expectation that this seperates categories where expected revenue is higher for certain low probability device_types. \n* So we can use  $\\mathbb{P}(\\textbf{is_transaction} \\equiv 1 \\;|\\;\\textbf{device_type}) = \\frac{ \\mathbb{P}(\\textbf{is_transaction} \\equiv 1 \\;\\cap \\;\\textbf{device_type})}{\\mathbb{P}(\\textbf{device_type})} $"
    },
    {
      "metadata": {
        "trusted": true,
        "_uuid": "294b73595d1a7ccd53f4ab789da5c637f4dcf933"
      },
      "cell_type": "code",
      "source": "transaction_totals = train.shape[0]\n\n# getting the required columns\nbrowser_transaction_values = train.groupby('device.browser').agg({'totals.transactionRevenue':{'transactionRevSum':np.sum,'transactionRevMean':np.mean},'is_transaction':{'is_transaction_sum':np.sum}     })\nbrowser_transaction_values.reset_index(inplace = True)\nbrowser_transaction_values.columns = browser_transaction_values.columns.droplevel(0)\nbrowser_transaction_values['transactionRev_proportion'] = browser_transaction_values['transactionRevSum']/train['totals.transactionRevenue'].sum()\nbrowser_transaction_values['is_transaction_proportion'] = browser_transaction_values['is_transaction_sum']/train['is_transaction'].sum()\nbrowser_transaction_values['device_browser_totals'] = device_browser_info['count']\nbrowser_transaction_values['device_browser.probability'] = device_browser_info['proportion']\nbrowser_transaction_values['is_transaction_and_device_probability'] = browser_transaction_values['is_transaction_sum']/transaction_totals\nbrowser_transaction_values",
      "execution_count": null,
      "outputs": []
    },
    {
      "metadata": {
        "trusted": true,
        "_uuid": "ca1bf8b8eeebcd2c1ef4d75689f26d5af84fa977"
      },
      "cell_type": "code",
      "source": "# Adding the probability of P(is_transaction | device_browser_type)\nbrowser_transaction_values['probability'] = browser_transaction_values['is_transaction_and_device_probability']/browser_transaction_values['device_browser.probability']\nbrowser_transaction_values",
      "execution_count": null,
      "outputs": []
    },
    {
      "metadata": {
        "trusted": true,
        "_uuid": "9bacaa3108e173a3fa6003ff0c64139416a18c3d"
      },
      "cell_type": "code",
      "source": "sns.scatterplot(x='probability',y='transactionRevMean', data = browser_transaction_values)",
      "execution_count": 46,
      "outputs": [
        {
          "output_type": "execute_result",
          "execution_count": 46,
          "data": {
            "text/plain": "<matplotlib.axes._subplots.AxesSubplot at 0x7fb1453b8b70>"
          },
          "metadata": {}
        },
        {
          "output_type": "display_data",
          "data": {
            "text/plain": "<Figure size 432x288 with 1 Axes>",
            "image/png": "[encoded data removed]"
          },
          "metadata": {
            "needs_background": "light"
          }
        }
      ]
    },
    {
      "metadata": {
        "_uuid": "9cade37e311de58c128200ffa00e674575eefcb4"
      },
      "cell_type": "markdown",
      "source": "### device browser report\n* Clearly this gives a much better seperaton of the data and might be worth considering over frequency encoding\n* The issue with this approach is if we exhibit a new feature we may not have a probability value associated with it for is_transaction and so the feature will be NaN."
    },
    {
      "metadata": {
        "trusted": true,
        "_uuid": "4db6767d501917f2a2fc33bbb201cb8e79078b75"
      },
      "cell_type": "code",
      "source": "### device category \n\ncount_distribution(train,'device.deviceCategory')",
      "execution_count": null,
      "outputs": []
    },
    {
      "metadata": {
        "trusted": true,
        "_uuid": "d9b2fc2e57fa143dc8e3fe8490f0ec9219b3788a"
      },
      "cell_type": "code",
      "source": "### device OS\n\n# most OS are either Mac 30%, Windows 40% and Android 12% and iOS 10% and Chrome OS 2% everything else can be encoded AS OTHER\n\ncount_distribution(train,'device.operatingSystem')",
      "execution_count": null,
      "outputs": []
    },
    {
      "metadata": {
        "_uuid": "d790036012e6ee33be4b2f8084b532ec4be0b7a0"
      },
      "cell_type": "markdown",
      "source": "## NaN count"
    },
    {
      "metadata": {
        "trusted": true,
        "_uuid": "ee2363128ae6b4c040e7d6f8ddea6f40b3ab26a4"
      },
      "cell_type": "code",
      "source": "NaN_value_count(train)",
      "execution_count": null,
      "outputs": []
    },
    {
      "metadata": {
        "_uuid": "4f6ea303dd0f0937bc8c82c4e700452e697474d8"
      },
      "cell_type": "markdown",
      "source": "# Analysing the predictor variable"
    },
    {
      "metadata": {
        "trusted": true,
        "_uuid": "1b5ac1b4ef2562ff1a4db44736b6dce519bc05c1"
      },
      "cell_type": "code",
      "source": "non_null_transaction_values = train[~train['totals.transactionRevenue'].isnull()]['totals.transactionRevenue']\n",
      "execution_count": null,
      "outputs": []
    },
    {
      "metadata": {
        "trusted": true,
        "_uuid": "9541e91f0fba70bc53eae0f28f5ae483eb88baaf"
      },
      "cell_type": "code",
      "source": "sns.distplot(non_null_transaction_values, kde=False, rug = True)",
      "execution_count": null,
      "outputs": []
    },
    {
      "metadata": {
        "_uuid": "c2a3277bb3bd48e1c71c1c738f2c734823b3c981"
      },
      "cell_type": "markdown",
      "source": "# Test"
    },
    {
      "metadata": {
        "trusted": true,
        "_uuid": "90d97a50ad4cd2bf80438cf3d50bfea8afa9e392"
      },
      "cell_type": "code",
      "source": "g = lambda x : 1 if x>0 else 0 ",
      "execution_count": null,
      "outputs": []
    },
    {
      "metadata": {
        "trusted": true,
        "_uuid": "7f43aa885a65bc002c9fc7dc1a779ee1dbfdaf51"
      },
      "cell_type": "code",
      "source": "g(-100)",
      "execution_count": null,
      "outputs": []
    },
    {
      "metadata": {
        "trusted": true,
        "_uuid": "218592d562237bc5e01ed468d3ac6845ba71d18c"
      },
      "cell_type": "code",
      "source": "train_df[\"totals.transactionRevenue\"] = train_df[\"totals.transactionRevenue\"].astype('float')",
      "execution_count": null,
      "outputs": []
    },
    {
      "metadata": {
        "trusted": true,
        "_uuid": "fdaffada2d8ce5c78999e358cd6da7367ece38db"
      },
      "cell_type": "code",
      "source": "df_example.head()",
      "execution_count": null,
      "outputs": []
    },
    {
      "metadata": {
        "trusted": true,
        "_uuid": "904b1ce25270907f25bfa3a3af2cd4bc29089f4b"
      },
      "cell_type": "code",
      "source": "date_time_conversion(df_example, 'date', day=1)",
      "execution_count": null,
      "outputs": []
    },
    {
      "metadata": {
        "trusted": true,
        "_uuid": "5eeaa74958eb4f2460ed424a702381145933a226"
      },
      "cell_type": "markdown",
      "source": "* There are 55 columns in the data set we need to remove ones where the values are all indentical. "
    },
    {
      "metadata": {
        "trusted": true,
        "_uuid": "0c6120988790e5eef06fc2e62329bc5ef226ea17"
      },
      "cell_type": "code",
      "source": "D = pd.DataFrame(np.arange(10))",
      "execution_count": null,
      "outputs": []
    },
    {
      "metadata": {
        "trusted": true,
        "_uuid": "239c0048c8e54b610918afeb2e12ac94a2213270"
      },
      "cell_type": "code",
      "source": "D.iloc[0:3]",
      "execution_count": null,
      "outputs": []
    },
    {
      "metadata": {
        "trusted": true,
        "_uuid": "ab85530ae1d123d982cf4ffec0de30dbb6be0c48"
      },
      "cell_type": "code",
      "source": "train[~train['totals.transactionRevenue'].isna()].fullVisitorId.unique().shape",
      "execution_count": null,
      "outputs": []
    },
    {
      "metadata": {
        "trusted": true,
        "_uuid": "5b2ca614990eec9aa3895a7c1ebe4061d0ba161c"
      },
      "cell_type": "code",
      "source": "sample  = pd.read_csv(\"../input/sample_submission.csv\")",
      "execution_count": null,
      "outputs": []
    },
    {
      "metadata": {
        "trusted": true,
        "_uuid": "91e2d763056b31acfcd3f5b4f4471a0f74e06656"
      },
      "cell_type": "code",
      "source": "sample.head()",
      "execution_count": null,
      "outputs": []
    },
    {
      "metadata": {
        "trusted": true,
        "_uuid": "43ad278d1721d60850b5952d18dcf76de4ca187a"
      },
      "cell_type": "code",
      "source": "sample.fullVisitorId.unique().shape",
      "execution_count": null,
      "outputs": []
    },
    {
      "metadata": {
        "trusted": true,
        "_uuid": "07e9c0077c36379c2668aeb8d776e783803dadf6"
      },
      "cell_type": "code",
      "source": "sample.shape",
      "execution_count": null,
      "outputs": []
    },
    {
      "metadata": {
        "trusted": true,
        "_uuid": "64506009309b5dd6e9dc499ca804f7a9ae0b0bc0"
      },
      "cell_type": "code",
      "source": "test.shape",
      "execution_count": null,
      "outputs": []
    },
    {
      "metadata": {
        "trusted": true,
        "_uuid": "c060654e8d14ae8b0ac60bdcf12400c6b805b75a"
      },
      "cell_type": "code",
      "source": "train.shape",
      "execution_count": null,
      "outputs": []
    },
    {
      "metadata": {
        "trusted": true,
        "_uuid": "481ba64f9c621434fb48fec40d829f6f82847b09"
      },
      "cell_type": "code",
      "source": "from matplotlib import pyplot as plt\nimport seaborn as sns\n\nplt.figure(figsize=(15,8))\nax = sns.countplot(x=\"device.browser\",data=train)",
      "execution_count": null,
      "outputs": []
    },
    {
      "metadata": {
        "trusted": true,
        "_uuid": "00cbec26c9524a0dd9e9f4482814e425cf25d0ec"
      },
      "cell_type": "code",
      "source": "def count_distribution(dataFrame,column):\n    column_count = pd.Series.to_frame(dataFrame.groupby(column).size(),'count')\n    column_count.reset_index(inplace = True)\n    total = column_count['count'].sum()\n    column_count['proportion'] = column_count['count']/total\n    return column_count\n\n    ",
      "execution_count": null,
      "outputs": []
    },
    {
      "metadata": {
        "trusted": true,
        "_uuid": "f966447adb5a65b8e12ec4bf1026a65dea71d946"
      },
      "cell_type": "code",
      "source": "count_distribution(train,'device.browser')",
      "execution_count": null,
      "outputs": []
    }
  ],
  "metadata": {
    "kernelspec": {
      "display_name": "Python 3",
      "language": "python",
      "name": "python3"
    },
    "language_info": {
      "name": "python",
      "version": "3.6.6",
      "mimetype": "text/x-python",
      "codemirror_mode": {
        "name": "ipython",
        "version": 3
      },
      "pygments_lexer": "ipython3",
      "nbconvert_exporter": "python",
      "file_extension": ".py"
    }
  },
  "nbformat": 4,
  "nbformat_minor": 1
}