{
  "cells": [
    {
      "metadata": {
        "_uuid": "8f2839f25d086af736a60e9eeb907d3b93b6e0e5",
        "_cell_guid": "b1076dfc-b9ad-4769-8c92-a6c4dae69d19",
        "trusted": true
      },
      "cell_type": "code",
      "source": "# This Python 3 environment comes with many helpful analytics libraries installed\n# It is defined by the kaggle/python docker image: https://github.com/kaggle/docker-python\n# For example, here's several helpful packages to load in \n\nimport numpy as np # linear algebra\nimport pandas as pd # data processing, CSV file I/O (e.g. pd.read_csv)\nimport pymc3\nimport json\nfrom pandas.io.json import json_normalize\nimport sklearn\nfrom sklearn.model_selection import train_test_split\nimport seaborn as sns\n\n\n# Input data files are available in the \"../input/\" directory.\n# For example, running this (by clicking run or pressing Shift+Enter) will list the files in the input directory\n\nimport os\nprint(os.listdir(\"../input\"))\n\n# Any results you write to the current directory are saved as output.",
      "execution_count": null,
      "outputs": []
    },
    {
      "metadata": {
        "_uuid": "6346bdcb1c8efa33124ec10847bb11a78a483352"
      },
      "cell_type": "markdown",
      "source": "# Utility functions"
    },
    {
      "metadata": {
        "trusted": true,
        "_uuid": "110806cf9021c1c62d9aec72f45133e85c5da94a"
      },
      "cell_type": "code",
      "source": "# This function allows us to flatten out the columns in the pandas dataframe which are in the json format\n\ndef load_df(csv_path='../input/train.csv', JSON_COLUMNS = ['device', 'geoNetwork', 'totals', 'trafficSource']):\n\n    df = pd.read_csv(csv_path, \n                     converters={column: json.loads for column in JSON_COLUMNS}, \n                     dtype={'fullVisitorId': 'str'})\n    \n    for column in JSON_COLUMNS:\n        column_as_df = json_normalize(df[column])\n        column_as_df.columns = [f\"{column}.{subcolumn}\" for subcolumn in column_as_df.columns]\n        df = df.drop(column, axis=1).merge(column_as_df, right_index=True, left_index=True)\n\n    return df\n\ndef column_type(dataFrame):\n    \n    type_keys = np.array(dataFrame.dtypes.unique())\n    \n    Dict = {object_type:[] for object_type in type_keys }\n    \n    for column in dataFrame.columns:\n        Dict[dataFrame[column].dtype].append(column)\n    \n    return Dict\n\n\ndef column_counts(dataFrame, threshold):\n    \n    type_keys = np.array(dataFrame.dtypes.unique())\n    \n    Dict = {object_type:{} for object_type in type_keys}\n    \n    for column in dataFrame.columns:\n        \n        if len(dataFrame[column].unique()) <= threshold:\n            \n            Dict[dataFrame[column].dtype][column] = len(dataFrame[column].unique())\n            \n    return Dict\n\n\n\ndef date_time_conversion(dataFrame, column, year = 0, month = 0, day = 0, weekday = 0, unit = None ,errors = None , format = None):\n    \n    dataFrame[column] = pd.to_datetime(dataFrame[column], format = format, errors = errors, unit = unit)\n    \n    if year: \n        dataFrame[column+'_year'] = dataFrame[column].apply(lambda x: x.year)\n    \n    if month:\n        dataFrame[column+'_month'] = dataFrame[column].apply(lambda x: x.month)\n        \n    if day:\n        dataFrame[column+'_day'] = dataFrame[column].apply(lambda x: x.day)\n        \n    if weekday:\n        dataFrame[column+'_weekday'] = dataFrame[column].apply(lambda x: x.weekday())\n    \n    return dataFrame\n        \n    \n    \n    \n    \n\n    \n\n\n    \n    \n    \n    ",
      "execution_count": null,
      "outputs": []
    },
    {
      "metadata": {
        "_uuid": "526ab7ebdd6964bab0c8cbb05effa3fcf2e26728"
      },
      "cell_type": "markdown",
      "source": "# Analysis Functions"
    },
    {
      "metadata": {
        "trusted": true,
        "_uuid": "f5c98af2b9e9437790766c559444611195e686d6"
      },
      "cell_type": "code",
      "source": "def NaN_value_count(dataFrame):\n    for column in dataFrame.columns:\n        print('column name:'+str(column))\n        print('number of NaN values: '+str(dataFrame[column].isnull().sum() ))\n        print('percentage of NaN values: '+str(dataFrame[column].isnull().sum()/dataFrame.shape[0] ))\n        print('------------')\n\n        \ndef count_distribution(dataFrame,column):\n    column_count = pd.Series.to_frame(dataFrame.groupby(column).size(),'count')\n    column_count.reset_index(inplace = True)\n    total = column_count['count'].sum()\n    column_count['proportion'] = column_count['count']/total\n    return column_count",
      "execution_count": null,
      "outputs": []
    },
    {
      "metadata": {
        "_uuid": "134259c2fc3c78621af35a94da149a3a970e3d9e"
      },
      "cell_type": "markdown",
      "source": "# Loading the data\n"
    },
    {
      "metadata": {
        "_uuid": "071a5415fbbcad1b21ed7020a1df1e62bfc41460"
      },
      "cell_type": "markdown",
      "source": "### required"
    },
    {
      "metadata": {
        "_cell_guid": "79c7e3d0-c299-4dcb-8224-4455121ee9b0",
        "_uuid": "d629ff2d2480ee46fbb7e2d37f6b5fab8052498a",
        "trusted": true
      },
      "cell_type": "code",
      "source": "train_unflatten = pd.read_csv(\"../input/train.csv\")\n",
      "execution_count": null,
      "outputs": []
    },
    {
      "metadata": {
        "trusted": true,
        "_uuid": "3aa7f1d1905a4e451747536cee03d431a04c54e5"
      },
      "cell_type": "code",
      "source": "test_unflatten  = pd.read_csv(\"../input/test.csv\")",
      "execution_count": null,
      "outputs": []
    },
    {
      "metadata": {
        "trusted": true,
        "_uuid": "044686b0d677113637e70fd8b4be7c20e67d40ec"
      },
      "cell_type": "code",
      "source": "df_train = load_df()",
      "execution_count": null,
      "outputs": []
    },
    {
      "metadata": {
        "trusted": true,
        "_uuid": "e94c383e86fcce3e42061b136bd7adecd435bd20"
      },
      "cell_type": "code",
      "source": "df_test = load_df(csv_path='../input/test.csv')",
      "execution_count": null,
      "outputs": []
    },
    {
      "metadata": {
        "trusted": true,
        "_uuid": "2e12dcc3451610d34769cb9aaf402c8b43c5c80e"
      },
      "cell_type": "code",
      "source": "# Adding the relevant transaction values to the training set\n\ndf_train[\"totals.transactionRevenue\"].fillna(0, inplace=True)",
      "execution_count": null,
      "outputs": []
    },
    {
      "metadata": {
        "trusted": true,
        "_uuid": "271f634f758e274a9d979ae25eb22f0771b45d43"
      },
      "cell_type": "code",
      "source": "",
      "execution_count": null,
      "outputs": []
    },
    {
      "metadata": {
        "_uuid": "3fdb95c26a19981c897e044198f25cdb9cc3c650"
      },
      "cell_type": "markdown",
      "source": "### analysis"
    },
    {
      "metadata": {
        "trusted": true,
        "_uuid": "07106346f69313f8b400672ed3c7a870b533bceb"
      },
      "cell_type": "code",
      "source": "# print unique id's in training set\n# print total transactions in training set\nprint(len(train_unflatten['fullVisitorId'].unique()))\nprint(train_unflatten.shape[0])",
      "execution_count": null,
      "outputs": []
    },
    {
      "metadata": {
        "trusted": true,
        "_uuid": "b028d5bfda0a54fc80f6b0fddbcfba7dc3c4a72c"
      },
      "cell_type": "code",
      "source": "df_train.head()",
      "execution_count": null,
      "outputs": []
    },
    {
      "metadata": {
        "trusted": true,
        "_uuid": "11cddc9baa226310cbf6c3fb88d374253e409b5e"
      },
      "cell_type": "code",
      "source": "# print unique id's in test set\n# print total transactions in test set\n\nprint(len(test_unflatten['fullVisitorId'].unique()))\nprint(test_unflatten.shape[0])",
      "execution_count": null,
      "outputs": []
    },
    {
      "metadata": {
        "trusted": true,
        "_uuid": "4958365acff06ddfe1835a12af034f8353f95137"
      },
      "cell_type": "code",
      "source": "df_test.head()",
      "execution_count": null,
      "outputs": []
    },
    {
      "metadata": {
        "_uuid": "71ec4a4e489d1ae03216c33ba51bfb53fce61449"
      },
      "cell_type": "markdown",
      "source": "# Preprocessing the data\n"
    },
    {
      "metadata": {
        "_uuid": "8d6ae62a5bc173f0e3cf44350682d7a5f96ceacf"
      },
      "cell_type": "markdown",
      "source": "### required"
    },
    {
      "metadata": {
        "trusted": true,
        "_uuid": "c5a97a455bff6cfa068800a84751698ded639bc8"
      },
      "cell_type": "code",
      "source": "# Types of columns that have a total number of unique values less than a threshold\n# note if we set threshold = 1 we are looking for constant columns. \n\nconstant_column_dict = column_counts(df_train, threshold = 1)\ncolumn_counts(df_train,threshold = 3)",
      "execution_count": null,
      "outputs": []
    },
    {
      "metadata": {
        "trusted": true,
        "_uuid": "0dc22066df48533c49fb758d677e7e27e7b01045"
      },
      "cell_type": "code",
      "source": "# Lets start by removing any constant columns \n\nconstant_dict_key_list = list(constant_column_dict.keys())\nconstant_columns = list(constant_column_dict[constant_dict_key_list[0]].keys())\nconstant_columns\ndf_train = df_train.drop(constant_columns+['trafficSource.campaignCode'], axis = 1)\n#['trafficSource.campaignCode']\ndf_test = df_test.drop(constant_columns, axis = 1)",
      "execution_count": null,
      "outputs": []
    },
    {
      "metadata": {
        "_uuid": "7932a3acc59b1e18dae13808605350892b2eead0"
      },
      "cell_type": "markdown",
      "source": "### Analysis"
    },
    {
      "metadata": {
        "trusted": true,
        "_uuid": "4befd40b9c02a8dc5c93f1857f1e04465f047dd6"
      },
      "cell_type": "code",
      "source": "# Visualise the types of columns we have in our dataFrame\ncolumn_type(df_train)",
      "execution_count": null,
      "outputs": []
    },
    {
      "metadata": {
        "trusted": true,
        "_uuid": "ec06640da4edc43ebb456977919ab3b621f24f17",
        "scrolled": true
      },
      "cell_type": "code",
      "source": "# Types of columns that have a total number of unique values less than a threshold\n# note if we set threshold = 1 we are looking for constant columns. \n\nconstant_column_dict = column_counts(df_train, threshold = 1)\ncolumn_counts(df_train,threshold = 3)",
      "execution_count": null,
      "outputs": []
    },
    {
      "metadata": {
        "_uuid": "17d807872b6cc27edbd9e8722779f76b59c185e2"
      },
      "cell_type": "markdown",
      "source": "\nThe following columns have the following number of unique entries\n\n{dtype('O'): {'socialEngagementType': 1,\n  'device.browserSize': 1,\n  'device.browserVersion': 1,\n  'device.deviceCategory': 3,\n  'device.flashVersion': 1,\n  'device.language': 1,\n  'device.mobileDeviceBranding': 1,\n  'device.mobileDeviceInfo': 1,\n  'device.mobileDeviceMarketingName': 1,\n  'device.mobileDeviceModel': 1,\n  'device.mobileInputSelector': 1,\n  'device.operatingSystemVersion': 1,\n  'device.screenColors': 1,\n  'device.screenResolution': 1,\n  'geoNetwork.cityId': 1,\n  'geoNetwork.latitude': 1,\n  'geoNetwork.longitude': 1,\n  'geoNetwork.networkLocation': 1,\n  'totals.bounces': 2,\n  'totals.newVisits': 2,\n  'totals.visits': 1,\n  'trafficSource.adwordsClickInfo.adNetworkType': 3,\n  'trafficSource.adwordsClickInfo.criteriaParameters': 1,\n  'trafficSource.adwordsClickInfo.isVideoAd': 2,\n  'trafficSource.adwordsClickInfo.slot': 3,\n  'trafficSource.campaignCode': 2,\n  'trafficSource.isTrueDirect': 2},\n dtype('int64'): {},\n dtype('bool'): {'device.isMobile': 2}}"
    },
    {
      "metadata": {
        "trusted": true,
        "_uuid": "05ddb5d99acca286b40222a7b13cdf32e471ada1"
      },
      "cell_type": "code",
      "source": "# We can check that a list of columns have been successfully removed\ndf_train.head()\ndf_train.shape",
      "execution_count": null,
      "outputs": []
    },
    {
      "metadata": {
        "_uuid": "4f1fed9e5367e88509a70b2cc9e2e21faa1a3124"
      },
      "cell_type": "markdown",
      "source": "## Preprocessing Date/time features"
    },
    {
      "metadata": {
        "_uuid": "5b40d49c85ef41d374e0c933ee0694eb59b9d74f"
      },
      "cell_type": "markdown",
      "source": "### Required"
    },
    {
      "metadata": {
        "trusted": true,
        "_uuid": "f6d31c1fec15d33549a0fda3b6906b6f481a3abd"
      },
      "cell_type": "code",
      "source": "# lets change the relevant columns to datetime ones \ndate_time_conversion(df_train, column = 'date', year = 1, month = 1, day = 1, weekday = 1, unit = None, errors = 'ignore', format = '%Y%m%d')\n",
      "execution_count": null,
      "outputs": []
    },
    {
      "metadata": {
        "trusted": true,
        "_uuid": "57e47f0b670d0433a43c50304fedc4091f05e961"
      },
      "cell_type": "code",
      "source": "date_time_conversion(df_train,column='visitStartTime', year = 1, month = 1, day = 1, weekday = 1,unit='s',errors='ignore')",
      "execution_count": null,
      "outputs": []
    },
    {
      "metadata": {
        "_uuid": "fca247eb84091872bd4b96669234bf685de8c1ca"
      },
      "cell_type": "markdown",
      "source": "### Analysis "
    },
    {
      "metadata": {
        "trusted": true,
        "_uuid": "65c5320beeb9693f6530da93111be1fe0fa2484c"
      },
      "cell_type": "code",
      "source": "df_train.columns",
      "execution_count": null,
      "outputs": []
    },
    {
      "metadata": {
        "_uuid": "f0a3c83f0098bf0185f15171c2b2b2bd2bb6ebb5"
      },
      "cell_type": "markdown",
      "source": "\n\nInfo on some of the fields \n\n*fullVisitorId- A unique identifier for each user of the Google Merchandise Store.\n*channelGrouping - The channel via which the user came to the Store.\n*date - The date on which the user visited the Store.\n*device - The specifications for the device used to access the Store.\n*geoNetwork - This section contains information about the geography of the user.\n*sessionId - A unique identifier for this visit to the store.\n*socialEngagementType - Engagement type, either \"Socially Engaged\" or \"Not Socially Engaged\".\n*totals - This section contains aggregate values across the session.\n*trafficSource - This section contains information about the Traffic Source from which the session originated.\n*visitId - An identifier for this session. This is part of the value usually stored as the _utmb cookie. This is only unique to the user. For a completely unique ID, you *should use a combination of fullVisitorId and visitId.\n*visitNumber - The session number for this user. If this is the first session, then this is set to 1.\n*visitStartTime - The timestamp (expressed as POSIX time)."
    },
    {
      "metadata": {
        "trusted": true,
        "_uuid": "8775286f24660c5977df5811110c7adb1a6ec6a0"
      },
      "cell_type": "markdown",
      "source": "# Create training and validation set ordered by date"
    },
    {
      "metadata": {
        "_uuid": "5c784d73152870af3520129d169034afa5cb3c1a"
      },
      "cell_type": "markdown",
      "source": "### required "
    },
    {
      "metadata": {
        "trusted": true,
        "_uuid": "6e3fdd2a4ddced3bf07c4461e7781cbf6d2d84cb"
      },
      "cell_type": "code",
      "source": "# sort the rows via date first\ndf_train.sort_values(by='date', inplace= True)",
      "execution_count": null,
      "outputs": []
    },
    {
      "metadata": {
        "trusted": true,
        "_uuid": "45cb7a98d9d66df839a553e616b094d1e1e992ec"
      },
      "cell_type": "code",
      "source": "# obtain an index according to split size\n\nsplit_size = 0.7\nindex = df_train.shape[0]*split_size\nsplit_index = int(index)",
      "execution_count": null,
      "outputs": []
    },
    {
      "metadata": {
        "trusted": true,
        "_uuid": "a4bacf75b6081a7a0a2a76f33d34157770658e8b"
      },
      "cell_type": "code",
      "source": "train = df_train.iloc[:split_index,:]\nval = df_train.iloc[split_index:,:]\ntrain[\"totals.transactionRevenue\"] = train[\"totals.transactionRevenue\"].astype('float')\nval[\"totals.transactionRevenue\"] = val[\"totals.transactionRevenue\"].astype('float')",
      "execution_count": null,
      "outputs": []
    },
    {
      "metadata": {
        "_uuid": "89c34225bc876e0af478347dcd48f99ef279e720"
      },
      "cell_type": "markdown",
      "source": "### Analysis"
    },
    {
      "metadata": {
        "trusted": true,
        "_uuid": "fe6ec0837300cd25bd1b775c726cc5e381621e68"
      },
      "cell_type": "code",
      "source": "train.head()\n",
      "execution_count": null,
      "outputs": []
    },
    {
      "metadata": {
        "trusted": true,
        "_uuid": "64e2fc292337a89c4ded0c7622ddc3fd11b16cab"
      },
      "cell_type": "code",
      "source": "val.head()",
      "execution_count": null,
      "outputs": []
    },
    {
      "metadata": {
        "_uuid": "d625e4fa83c6d3ebb1642d5fb4b2253b504e5b9e"
      },
      "cell_type": "markdown",
      "source": "# feature analysis"
    },
    {
      "metadata": {
        "_uuid": "d4670c967358e1f0c6b27ccef402d6526ccb1ebb"
      },
      "cell_type": "markdown",
      "source": "### required"
    },
    {
      "metadata": {
        "_uuid": "ce9ee200a52d7c5767080adc5a5715a99d369ef3",
        "trusted": true
      },
      "cell_type": "code",
      "source": "# Lets create a variable which one-hot-encodes whether a transaction value is 0 or not\ntransaction_series = train['totals.transactionRevenue'] \ntrain['is_transaction'] = transaction_series.apply(lambda x:1 if x>0 else 0)",
      "execution_count": 48,
      "outputs": [
        {
          "output_type": "stream",
          "text": "/opt/conda/lib/python3.6/site-packages/ipykernel_launcher.py:2: SettingWithCopyWarning: \nA value is trying to be set on a copy of a slice from a DataFrame.\nTry using .loc[row_indexer,col_indexer] = value instead\n\nSee the caveats in the documentation: http://pandas.pydata.org/pandas-docs/stable/indexing.html#indexing-view-versus-copy\n  \n",
          "name": "stderr"
        }
      ]
    },
    {
      "metadata": {
        "_uuid": "0163437b8ce791f97827600c76d683559418a080"
      },
      "cell_type": "markdown",
      "source": "### analysis"
    },
    {
      "metadata": {
        "trusted": true,
        "_uuid": "c9da9c157c9ffb4890b4421d368cdc28287ff7da"
      },
      "cell_type": "code",
      "source": "train.head()",
      "execution_count": 52,
      "outputs": [
        {
          "output_type": "execute_result",
          "execution_count": 52,
          "data": {
            "text/plain": "       channelGrouping      ...       is_transaction\n538448          Direct      ...                    0\n538277          Direct      ...                    0\n538278        Referral      ...                    0\n538279          Direct      ...                    0\n538280          Direct      ...                    0\n\n[5 rows x 44 columns]",
            "text/html": "<div>\n<style scoped>\n    .dataframe tbody tr th:only-of-type {\n        vertical-align: middle;\n    }\n\n    .dataframe tbody tr th {\n        vertical-align: top;\n    }\n\n    .dataframe thead th {\n        text-align: right;\n    }\n</style>\n<table border=\"1\" class=\"dataframe\">\n  <thead>\n    <tr style=\"text-align: right;\">\n      <th></th>\n      <th>channelGrouping</th>\n      <th>date</th>\n      <th>fullVisitorId</th>\n      <th>sessionId</th>\n      <th>visitId</th>\n      <th>visitNumber</th>\n      <th>visitStartTime</th>\n      <th>device.browser</th>\n      <th>device.deviceCategory</th>\n      <th>device.isMobile</th>\n      <th>device.operatingSystem</th>\n      <th>geoNetwork.city</th>\n      <th>geoNetwork.continent</th>\n      <th>geoNetwork.country</th>\n      <th>geoNetwork.metro</th>\n      <th>geoNetwork.networkDomain</th>\n      <th>geoNetwork.region</th>\n      <th>geoNetwork.subContinent</th>\n      <th>totals.bounces</th>\n      <th>totals.hits</th>\n      <th>totals.newVisits</th>\n      <th>totals.pageviews</th>\n      <th>totals.transactionRevenue</th>\n      <th>trafficSource.adContent</th>\n      <th>trafficSource.adwordsClickInfo.adNetworkType</th>\n      <th>trafficSource.adwordsClickInfo.gclId</th>\n      <th>trafficSource.adwordsClickInfo.isVideoAd</th>\n      <th>trafficSource.adwordsClickInfo.page</th>\n      <th>trafficSource.adwordsClickInfo.slot</th>\n      <th>trafficSource.campaign</th>\n      <th>trafficSource.isTrueDirect</th>\n      <th>trafficSource.keyword</th>\n      <th>trafficSource.medium</th>\n      <th>trafficSource.referralPath</th>\n      <th>trafficSource.source</th>\n      <th>date_year</th>\n      <th>date_month</th>\n      <th>date_day</th>\n      <th>date_weekday</th>\n      <th>visitStartTime_year</th>\n      <th>visitStartTime_month</th>\n      <th>visitStartTime_day</th>\n      <th>visitStartTime_weekday</th>\n      <th>is_transaction</th>\n    </tr>\n  </thead>\n  <tbody>\n    <tr>\n      <th>538448</th>\n      <td>Direct</td>\n      <td>2016-08-01</td>\n      <td>1492602573213666603</td>\n      <td>1492602573213666603_1470044332</td>\n      <td>1470044332</td>\n      <td>1</td>\n      <td>2016-08-01 09:38:52</td>\n      <td>Chrome</td>\n      <td>desktop</td>\n      <td>False</td>\n      <td>Macintosh</td>\n      <td>not available in demo dataset</td>\n      <td>Asia</td>\n      <td>Japan</td>\n      <td>not available in demo dataset</td>\n      <td>i3-systems.net</td>\n      <td>not available in demo dataset</td>\n      <td>Eastern Asia</td>\n      <td>1</td>\n      <td>1</td>\n      <td>1</td>\n      <td>1</td>\n      <td>0.0</td>\n      <td>NaN</td>\n      <td>NaN</td>\n      <td>NaN</td>\n      <td>NaN</td>\n      <td>NaN</td>\n      <td>NaN</td>\n      <td>(not set)</td>\n      <td>True</td>\n      <td>NaN</td>\n      <td>(none)</td>\n      <td>NaN</td>\n      <td>(direct)</td>\n      <td>2016</td>\n      <td>8</td>\n      <td>1</td>\n      <td>0</td>\n      <td>2016</td>\n      <td>8</td>\n      <td>1</td>\n      <td>0</td>\n      <td>0</td>\n    </tr>\n    <tr>\n      <th>538277</th>\n      <td>Direct</td>\n      <td>2016-08-01</td>\n      <td>7394165545362887055</td>\n      <td>7394165545362887055_1470044425</td>\n      <td>1470044425</td>\n      <td>3</td>\n      <td>2016-08-01 09:40:25</td>\n      <td>Chrome</td>\n      <td>desktop</td>\n      <td>False</td>\n      <td>Windows</td>\n      <td>Hanoi</td>\n      <td>Asia</td>\n      <td>Vietnam</td>\n      <td>(not set)</td>\n      <td>unknown.unknown</td>\n      <td>Hanoi</td>\n      <td>Southeast Asia</td>\n      <td>1</td>\n      <td>1</td>\n      <td>NaN</td>\n      <td>1</td>\n      <td>0.0</td>\n      <td>NaN</td>\n      <td>NaN</td>\n      <td>NaN</td>\n      <td>NaN</td>\n      <td>NaN</td>\n      <td>NaN</td>\n      <td>(not set)</td>\n      <td>True</td>\n      <td>NaN</td>\n      <td>(none)</td>\n      <td>NaN</td>\n      <td>(direct)</td>\n      <td>2016</td>\n      <td>8</td>\n      <td>1</td>\n      <td>0</td>\n      <td>2016</td>\n      <td>8</td>\n      <td>1</td>\n      <td>0</td>\n      <td>0</td>\n    </tr>\n    <tr>\n      <th>538278</th>\n      <td>Referral</td>\n      <td>2016-08-01</td>\n      <td>6107229716178617930</td>\n      <td>6107229716178617930_1470094529</td>\n      <td>1470094529</td>\n      <td>1</td>\n      <td>2016-08-01 23:35:29</td>\n      <td>Chrome</td>\n      <td>desktop</td>\n      <td>False</td>\n      <td>Macintosh</td>\n      <td>Mountain View</td>\n      <td>Americas</td>\n      <td>United States</td>\n      <td>San Francisco-Oakland-San Jose CA</td>\n      <td>(not set)</td>\n      <td>California</td>\n      <td>Northern America</td>\n      <td>1</td>\n      <td>1</td>\n      <td>1</td>\n      <td>1</td>\n      <td>0.0</td>\n      <td>NaN</td>\n      <td>NaN</td>\n      <td>NaN</td>\n      <td>NaN</td>\n      <td>NaN</td>\n      <td>NaN</td>\n      <td>(not set)</td>\n      <td>NaN</td>\n      <td>NaN</td>\n      <td>referral</td>\n      <td>/</td>\n      <td>mall.googleplex.com</td>\n      <td>2016</td>\n      <td>8</td>\n      <td>1</td>\n      <td>0</td>\n      <td>2016</td>\n      <td>8</td>\n      <td>1</td>\n      <td>0</td>\n      <td>0</td>\n    </tr>\n    <tr>\n      <th>538279</th>\n      <td>Direct</td>\n      <td>2016-08-01</td>\n      <td>9459384188253198762</td>\n      <td>9459384188253198762_1470079413</td>\n      <td>1470079413</td>\n      <td>1</td>\n      <td>2016-08-01 19:23:33</td>\n      <td>Chrome</td>\n      <td>desktop</td>\n      <td>False</td>\n      <td>Windows</td>\n      <td>not available in demo dataset</td>\n      <td>Americas</td>\n      <td>Brazil</td>\n      <td>not available in demo dataset</td>\n      <td>brasiltelecom.net.br</td>\n      <td>not available in demo dataset</td>\n      <td>South America</td>\n      <td>1</td>\n      <td>1</td>\n      <td>1</td>\n      <td>1</td>\n      <td>0.0</td>\n      <td>NaN</td>\n      <td>NaN</td>\n      <td>NaN</td>\n      <td>NaN</td>\n      <td>NaN</td>\n      <td>NaN</td>\n      <td>(not set)</td>\n      <td>True</td>\n      <td>NaN</td>\n      <td>(none)</td>\n      <td>NaN</td>\n      <td>(direct)</td>\n      <td>2016</td>\n      <td>8</td>\n      <td>1</td>\n      <td>0</td>\n      <td>2016</td>\n      <td>8</td>\n      <td>1</td>\n      <td>0</td>\n      <td>0</td>\n    </tr>\n    <tr>\n      <th>538280</th>\n      <td>Direct</td>\n      <td>2016-08-01</td>\n      <td>4052177266351383392</td>\n      <td>4052177266351383392_1470111093</td>\n      <td>1470111093</td>\n      <td>1</td>\n      <td>2016-08-02 04:11:33</td>\n      <td>Safari</td>\n      <td>desktop</td>\n      <td>False</td>\n      <td>Macintosh</td>\n      <td>not available in demo dataset</td>\n      <td>Asia</td>\n      <td>Thailand</td>\n      <td>not available in demo dataset</td>\n      <td>unknown.unknown</td>\n      <td>not available in demo dataset</td>\n      <td>Southeast Asia</td>\n      <td>1</td>\n      <td>1</td>\n      <td>1</td>\n      <td>1</td>\n      <td>0.0</td>\n      <td>NaN</td>\n      <td>NaN</td>\n      <td>NaN</td>\n      <td>NaN</td>\n      <td>NaN</td>\n      <td>NaN</td>\n      <td>(not set)</td>\n      <td>True</td>\n      <td>NaN</td>\n      <td>(none)</td>\n      <td>NaN</td>\n      <td>(direct)</td>\n      <td>2016</td>\n      <td>8</td>\n      <td>1</td>\n      <td>0</td>\n      <td>2016</td>\n      <td>8</td>\n      <td>2</td>\n      <td>1</td>\n      <td>0</td>\n    </tr>\n  </tbody>\n</table>\n</div>"
          },
          "metadata": {}
        }
      ]
    },
    {
      "metadata": {
        "trusted": true,
        "_uuid": "b6597aa0984ab3b7f58beeed80d892e040a84a3c"
      },
      "cell_type": "code",
      "source": "# let's start by listing all the columns we are looking at \n\ntrain.columns",
      "execution_count": 49,
      "outputs": [
        {
          "output_type": "execute_result",
          "execution_count": 49,
          "data": {
            "text/plain": "Index(['channelGrouping', 'date', 'fullVisitorId', 'sessionId', 'visitId',\n       'visitNumber', 'visitStartTime', 'device.browser',\n       'device.deviceCategory', 'device.isMobile', 'device.operatingSystem',\n       'geoNetwork.city', 'geoNetwork.continent', 'geoNetwork.country',\n       'geoNetwork.metro', 'geoNetwork.networkDomain', 'geoNetwork.region',\n       'geoNetwork.subContinent', 'totals.bounces', 'totals.hits',\n       'totals.newVisits', 'totals.pageviews', 'totals.transactionRevenue',\n       'trafficSource.adContent',\n       'trafficSource.adwordsClickInfo.adNetworkType',\n       'trafficSource.adwordsClickInfo.gclId',\n       'trafficSource.adwordsClickInfo.isVideoAd',\n       'trafficSource.adwordsClickInfo.page',\n       'trafficSource.adwordsClickInfo.slot', 'trafficSource.campaign',\n       'trafficSource.isTrueDirect', 'trafficSource.keyword',\n       'trafficSource.medium', 'trafficSource.referralPath',\n       'trafficSource.source', 'date_year', 'date_month', 'date_day',\n       'date_weekday', 'visitStartTime_year', 'visitStartTime_month',\n       'visitStartTime_day', 'visitStartTime_weekday', 'is_transaction'],\n      dtype='object')"
          },
          "metadata": {}
        }
      ]
    },
    {
      "metadata": {
        "trusted": true,
        "_uuid": "05ddb05b6a1ef1c4c087be371ec3b8ef6b13456d"
      },
      "cell_type": "code",
      "source": "# lets get the variable types of the new features in the training set \ncolumn_type(train)",
      "execution_count": null,
      "outputs": []
    },
    {
      "metadata": {
        "_uuid": "ee7845923072771b04eb62ec630c75eb93532e9d"
      },
      "cell_type": "markdown",
      "source": "{dtype('O'): ['channelGrouping',\n  'fullVisitorId',\n  'sessionId',\n  'device.browser',\n  'device.deviceCategory',\n  'device.operatingSystem',\n  'geoNetwork.city',\n  'geoNetwork.continent',\n  'geoNetwork.country',\n  'geoNetwork.metro',\n  'geoNetwork.networkDomain',\n  'geoNetwork.region',\n  'geoNetwork.subContinent',\n  'totals.bounces',\n  'totals.hits',\n  'totals.newVisits',\n  'totals.pageviews',\n  'trafficSource.adContent',\n  'trafficSource.adwordsClickInfo.adNetworkType',\n  'trafficSource.adwordsClickInfo.gclId',\n  'trafficSource.adwordsClickInfo.isVideoAd',\n  'trafficSource.adwordsClickInfo.page',\n  'trafficSource.adwordsClickInfo.slot',\n  'trafficSource.campaign',\n  'trafficSource.isTrueDirect',\n  'trafficSource.keyword',\n  'trafficSource.medium',\n  'trafficSource.referralPath',\n  'trafficSource.source'],\n dtype('<M8[ns]'): ['date', 'visitStartTime'],\n dtype('int64'): ['visitId',\n  'visitNumber',\n  'date_year',\n  'date_month',\n  'date_day',\n  'date_weekday',\n  'visitStartTime_year',\n  'visitStartTime_month',\n  'visitStartTime_day',\n  'visitStartTime_weekday'],\n dtype('bool'): ['device.isMobile'],\n dtype('float64'): ['totals.transactionRevenue']}"
    },
    {
      "metadata": {
        "_uuid": "2e253557ecc5c0ec1d0638cfb4afd1500fb9dc5d"
      },
      "cell_type": "markdown",
      "source": "## feature distribution: device info"
    },
    {
      "metadata": {
        "_uuid": "7debcfda5f84e3f163252af45c151478d27c66bb"
      },
      "cell_type": "markdown",
      "source": "### device browser"
    },
    {
      "metadata": {
        "trusted": true,
        "_uuid": "164af3496ac1bdb3811ac3f0ef88b5cb182e0faa"
      },
      "cell_type": "code",
      "source": "### device browser \n# most device browsers are either chrome 67% or safari 21% anything else can be encoded as OTHER\n\n#sns.countplot(x = 'device.browser', data = train)\n\ndevice_browser_info = count_distribution(train,'device.browser')\ndevice_browser_info\n\n\n",
      "execution_count": 64,
      "outputs": [
        {
          "output_type": "execute_result",
          "execution_count": 64,
          "data": {
            "text/plain": "                device.browser   count  proportion\n0                    (not set)       5    0.000008\n1                          ADM       1    0.000002\n2                  Amazon Silk     396    0.000626\n3              Android Browser     397    0.000628\n4              Android Webview    4157    0.006572\n5              Apple-iPhone7C2       3    0.000005\n6                   BlackBerry     142    0.000224\n7                    CSM Click       1    0.000002\n8                       Chrome  425920    0.673331\n9                      Coc Coc     546    0.000863\n10                  DASH_JR_3G       1    0.000002\n11                      DoCoMo       1    0.000002\n12                        Edge    6990    0.011050\n13                     Firefox   26078    0.041226\n14                  HTC802t_TD       1    0.000002\n15           Hisense M20-M_LTE       1    0.000002\n16           Internet Explorer   14077    0.022254\n17                        Iron      29    0.000046\n18                   Konqueror       1    0.000002\n19              LYF_LS_4002_11       3    0.000005\n20              LYF_LS_4002_12      20    0.000032\n21                   Lunascape       5    0.000008\n22                  MQQBrowser       2    0.000003\n23                    MRCHROME     235    0.000372\n24                     Maxthon     174    0.000275\n25                     Mozilla       9    0.000014\n26    Mozilla Compatible Agent     247    0.000390\n27                    Nichrome       7    0.000011\n28            Nintendo Browser     122    0.000193\n29               Nokia Browser      57    0.000090\n30                  NokiaE52-1       2    0.000003\n31                       Opera    4494    0.007104\n32                  Opera Mini    4168    0.006589\n33                      Puffin      53    0.000084\n34                      Reddit       1    0.000002\n35                      Safari  136846    0.216338\n36             Safari (in-app)    4192    0.006627\n37                   SeaMonkey      11    0.000017\n38                      Seznam       8    0.000013\n39                   TCL P500M       1    0.000002\n40                 ThumbSniper       3    0.000005\n41                  UC Browser    1395    0.002205\n42                  User Agent       1    0.000002\n43                          YE       2    0.000003\n44                   YaBrowser    1744    0.002757\n45                       no-ua       3    0.000005\n46         osee2unifiedRelease       4    0.000006\n47  subjectAgent: NoticiasBoom       1    0.000002",
            "text/html": "<div>\n<style scoped>\n    .dataframe tbody tr th:only-of-type {\n        vertical-align: middle;\n    }\n\n    .dataframe tbody tr th {\n        vertical-align: top;\n    }\n\n    .dataframe thead th {\n        text-align: right;\n    }\n</style>\n<table border=\"1\" class=\"dataframe\">\n  <thead>\n    <tr style=\"text-align: right;\">\n      <th></th>\n      <th>device.browser</th>\n      <th>count</th>\n      <th>proportion</th>\n    </tr>\n  </thead>\n  <tbody>\n    <tr>\n      <th>0</th>\n      <td>(not set)</td>\n      <td>5</td>\n      <td>0.000008</td>\n    </tr>\n    <tr>\n      <th>1</th>\n      <td>ADM</td>\n      <td>1</td>\n      <td>0.000002</td>\n    </tr>\n    <tr>\n      <th>2</th>\n      <td>Amazon Silk</td>\n      <td>396</td>\n      <td>0.000626</td>\n    </tr>\n    <tr>\n      <th>3</th>\n      <td>Android Browser</td>\n      <td>397</td>\n      <td>0.000628</td>\n    </tr>\n    <tr>\n      <th>4</th>\n      <td>Android Webview</td>\n      <td>4157</td>\n      <td>0.006572</td>\n    </tr>\n    <tr>\n      <th>5</th>\n      <td>Apple-iPhone7C2</td>\n      <td>3</td>\n      <td>0.000005</td>\n    </tr>\n    <tr>\n      <th>6</th>\n      <td>BlackBerry</td>\n      <td>142</td>\n      <td>0.000224</td>\n    </tr>\n    <tr>\n      <th>7</th>\n      <td>CSM Click</td>\n      <td>1</td>\n      <td>0.000002</td>\n    </tr>\n    <tr>\n      <th>8</th>\n      <td>Chrome</td>\n      <td>425920</td>\n      <td>0.673331</td>\n    </tr>\n    <tr>\n      <th>9</th>\n      <td>Coc Coc</td>\n      <td>546</td>\n      <td>0.000863</td>\n    </tr>\n    <tr>\n      <th>10</th>\n      <td>DASH_JR_3G</td>\n      <td>1</td>\n      <td>0.000002</td>\n    </tr>\n    <tr>\n      <th>11</th>\n      <td>DoCoMo</td>\n      <td>1</td>\n      <td>0.000002</td>\n    </tr>\n    <tr>\n      <th>12</th>\n      <td>Edge</td>\n      <td>6990</td>\n      <td>0.011050</td>\n    </tr>\n    <tr>\n      <th>13</th>\n      <td>Firefox</td>\n      <td>26078</td>\n      <td>0.041226</td>\n    </tr>\n    <tr>\n      <th>14</th>\n      <td>HTC802t_TD</td>\n      <td>1</td>\n      <td>0.000002</td>\n    </tr>\n    <tr>\n      <th>15</th>\n      <td>Hisense M20-M_LTE</td>\n      <td>1</td>\n      <td>0.000002</td>\n    </tr>\n    <tr>\n      <th>16</th>\n      <td>Internet Explorer</td>\n      <td>14077</td>\n      <td>0.022254</td>\n    </tr>\n    <tr>\n      <th>17</th>\n      <td>Iron</td>\n      <td>29</td>\n      <td>0.000046</td>\n    </tr>\n    <tr>\n      <th>18</th>\n      <td>Konqueror</td>\n      <td>1</td>\n      <td>0.000002</td>\n    </tr>\n    <tr>\n      <th>19</th>\n      <td>LYF_LS_4002_11</td>\n      <td>3</td>\n      <td>0.000005</td>\n    </tr>\n    <tr>\n      <th>20</th>\n      <td>LYF_LS_4002_12</td>\n      <td>20</td>\n      <td>0.000032</td>\n    </tr>\n    <tr>\n      <th>21</th>\n      <td>Lunascape</td>\n      <td>5</td>\n      <td>0.000008</td>\n    </tr>\n    <tr>\n      <th>22</th>\n      <td>MQQBrowser</td>\n      <td>2</td>\n      <td>0.000003</td>\n    </tr>\n    <tr>\n      <th>23</th>\n      <td>MRCHROME</td>\n      <td>235</td>\n      <td>0.000372</td>\n    </tr>\n    <tr>\n      <th>24</th>\n      <td>Maxthon</td>\n      <td>174</td>\n      <td>0.000275</td>\n    </tr>\n    <tr>\n      <th>25</th>\n      <td>Mozilla</td>\n      <td>9</td>\n      <td>0.000014</td>\n    </tr>\n    <tr>\n      <th>26</th>\n      <td>Mozilla Compatible Agent</td>\n      <td>247</td>\n      <td>0.000390</td>\n    </tr>\n    <tr>\n      <th>27</th>\n      <td>Nichrome</td>\n      <td>7</td>\n      <td>0.000011</td>\n    </tr>\n    <tr>\n      <th>28</th>\n      <td>Nintendo Browser</td>\n      <td>122</td>\n      <td>0.000193</td>\n    </tr>\n    <tr>\n      <th>29</th>\n      <td>Nokia Browser</td>\n      <td>57</td>\n      <td>0.000090</td>\n    </tr>\n    <tr>\n      <th>30</th>\n      <td>NokiaE52-1</td>\n      <td>2</td>\n      <td>0.000003</td>\n    </tr>\n    <tr>\n      <th>31</th>\n      <td>Opera</td>\n      <td>4494</td>\n      <td>0.007104</td>\n    </tr>\n    <tr>\n      <th>32</th>\n      <td>Opera Mini</td>\n      <td>4168</td>\n      <td>0.006589</td>\n    </tr>\n    <tr>\n      <th>33</th>\n      <td>Puffin</td>\n      <td>53</td>\n      <td>0.000084</td>\n    </tr>\n    <tr>\n      <th>34</th>\n      <td>Reddit</td>\n      <td>1</td>\n      <td>0.000002</td>\n    </tr>\n    <tr>\n      <th>35</th>\n      <td>Safari</td>\n      <td>136846</td>\n      <td>0.216338</td>\n    </tr>\n    <tr>\n      <th>36</th>\n      <td>Safari (in-app)</td>\n      <td>4192</td>\n      <td>0.006627</td>\n    </tr>\n    <tr>\n      <th>37</th>\n      <td>SeaMonkey</td>\n      <td>11</td>\n      <td>0.000017</td>\n    </tr>\n    <tr>\n      <th>38</th>\n      <td>Seznam</td>\n      <td>8</td>\n      <td>0.000013</td>\n    </tr>\n    <tr>\n      <th>39</th>\n      <td>TCL P500M</td>\n      <td>1</td>\n      <td>0.000002</td>\n    </tr>\n    <tr>\n      <th>40</th>\n      <td>ThumbSniper</td>\n      <td>3</td>\n      <td>0.000005</td>\n    </tr>\n    <tr>\n      <th>41</th>\n      <td>UC Browser</td>\n      <td>1395</td>\n      <td>0.002205</td>\n    </tr>\n    <tr>\n      <th>42</th>\n      <td>User Agent</td>\n      <td>1</td>\n      <td>0.000002</td>\n    </tr>\n    <tr>\n      <th>43</th>\n      <td>YE</td>\n      <td>2</td>\n      <td>0.000003</td>\n    </tr>\n    <tr>\n      <th>44</th>\n      <td>YaBrowser</td>\n      <td>1744</td>\n      <td>0.002757</td>\n    </tr>\n    <tr>\n      <th>45</th>\n      <td>no-ua</td>\n      <td>3</td>\n      <td>0.000005</td>\n    </tr>\n    <tr>\n      <th>46</th>\n      <td>osee2unifiedRelease</td>\n      <td>4</td>\n      <td>0.000006</td>\n    </tr>\n    <tr>\n      <th>47</th>\n      <td>subjectAgent: NoticiasBoom</td>\n      <td>1</td>\n      <td>0.000002</td>\n    </tr>\n  </tbody>\n</table>\n</div>"
          },
          "metadata": {}
        }
      ]
    },
    {
      "metadata": {
        "trusted": true,
        "_uuid": "8a26e4a500f199f7dc0c49581ebf89701d2fa31b"
      },
      "cell_type": "code",
      "source": "# lets do a group by of total transaction value by device browser\n#tips.groupby('day').agg({'tip': np.mean, 'day': np.size})\nbrowser_transaction_values = train.groupby('device.browser').agg({'totals.transactionRevenue':np.sum,'is_transaction':np.sum})\nbrowser_transaction_values.reset_index(inplace = True)\nbrowser_transaction_values['transaction_value_proportion'] = browser_transaction_values['totals.transactionRevenue']/train['totals.transactionRevenue'].sum()\nbrowser_transaction_values['is_transaction_proportion'] = browser_transaction_values['is_transaction']/train['is_transaction'].sum()\n#browser_transaction_values\npd.merge(device_browser_info,browser_transaction_values,on = 'device.browser')\n\n###### Notes \n\n# can we possibly frequency encode the device browser column since clearly higher frequency tends to lead to a higher transaction revenue\n# can we look at the variance of the transaction Revenue across different proportional bands.\n# We expect to see an upward trend. ",
      "execution_count": 65,
      "outputs": [
        {
          "output_type": "execute_result",
          "execution_count": 65,
          "data": {
            "text/plain": "                device.browser            ...              is_transaction_proportion\n0                    (not set)            ...                               0.000000\n1                          ADM            ...                               0.000000\n2                  Amazon Silk            ...                               0.000134\n3              Android Browser            ...                               0.000000\n4              Android Webview            ...                               0.000671\n5              Apple-iPhone7C2            ...                               0.000000\n6                   BlackBerry            ...                               0.000000\n7                    CSM Click            ...                               0.000000\n8                       Chrome            ...                               0.895330\n9                      Coc Coc            ...                               0.000000\n10                  DASH_JR_3G            ...                               0.000000\n11                      DoCoMo            ...                               0.000000\n12                        Edge            ...                               0.005636\n13                     Firefox            ...                               0.016774\n14                  HTC802t_TD            ...                               0.000000\n15           Hisense M20-M_LTE            ...                               0.000000\n16           Internet Explorer            ...                               0.010870\n17                        Iron            ...                               0.000000\n18                   Konqueror            ...                               0.000000\n19              LYF_LS_4002_11            ...                               0.000000\n20              LYF_LS_4002_12            ...                               0.000000\n21                   Lunascape            ...                               0.000000\n22                  MQQBrowser            ...                               0.000000\n23                    MRCHROME            ...                               0.000000\n24                     Maxthon            ...                               0.000000\n25                     Mozilla            ...                               0.000000\n26    Mozilla Compatible Agent            ...                               0.000000\n27                    Nichrome            ...                               0.000000\n28            Nintendo Browser            ...                               0.000000\n29               Nokia Browser            ...                               0.000000\n30                  NokiaE52-1            ...                               0.000000\n31                       Opera            ...                               0.000403\n32                  Opera Mini            ...                               0.000000\n33                      Puffin            ...                               0.000000\n34                      Reddit            ...                               0.000000\n35                      Safari            ...                               0.069377\n36             Safari (in-app)            ...                               0.000805\n37                   SeaMonkey            ...                               0.000000\n38                      Seznam            ...                               0.000000\n39                   TCL P500M            ...                               0.000000\n40                 ThumbSniper            ...                               0.000000\n41                  UC Browser            ...                               0.000000\n42                  User Agent            ...                               0.000000\n43                          YE            ...                               0.000000\n44                   YaBrowser            ...                               0.000000\n45                       no-ua            ...                               0.000000\n46         osee2unifiedRelease            ...                               0.000000\n47  subjectAgent: NoticiasBoom            ...                               0.000000\n\n[48 rows x 7 columns]",
            "text/html": "<div>\n<style scoped>\n    .dataframe tbody tr th:only-of-type {\n        vertical-align: middle;\n    }\n\n    .dataframe tbody tr th {\n        vertical-align: top;\n    }\n\n    .dataframe thead th {\n        text-align: right;\n    }\n</style>\n<table border=\"1\" class=\"dataframe\">\n  <thead>\n    <tr style=\"text-align: right;\">\n      <th></th>\n      <th>device.browser</th>\n      <th>count</th>\n      <th>proportion</th>\n      <th>totals.transactionRevenue</th>\n      <th>is_transaction</th>\n      <th>transaction_value_proportion</th>\n      <th>is_transaction_proportion</th>\n    </tr>\n  </thead>\n  <tbody>\n    <tr>\n      <th>0</th>\n      <td>(not set)</td>\n      <td>5</td>\n      <td>0.000008</td>\n      <td>0.000000e+00</td>\n      <td>0</td>\n      <td>0.000000</td>\n      <td>0.000000</td>\n    </tr>\n    <tr>\n      <th>1</th>\n      <td>ADM</td>\n      <td>1</td>\n      <td>0.000002</td>\n      <td>0.000000e+00</td>\n      <td>0</td>\n      <td>0.000000</td>\n      <td>0.000000</td>\n    </tr>\n    <tr>\n      <th>2</th>\n      <td>Amazon Silk</td>\n      <td>396</td>\n      <td>0.000626</td>\n      <td>2.999000e+07</td>\n      <td>1</td>\n      <td>0.000030</td>\n      <td>0.000134</td>\n    </tr>\n    <tr>\n      <th>3</th>\n      <td>Android Browser</td>\n      <td>397</td>\n      <td>0.000628</td>\n      <td>0.000000e+00</td>\n      <td>0</td>\n      <td>0.000000</td>\n      <td>0.000000</td>\n    </tr>\n    <tr>\n      <th>4</th>\n      <td>Android Webview</td>\n      <td>4157</td>\n      <td>0.006572</td>\n      <td>6.486000e+07</td>\n      <td>5</td>\n      <td>0.000065</td>\n      <td>0.000671</td>\n    </tr>\n    <tr>\n      <th>5</th>\n      <td>Apple-iPhone7C2</td>\n      <td>3</td>\n      <td>0.000005</td>\n      <td>0.000000e+00</td>\n      <td>0</td>\n      <td>0.000000</td>\n      <td>0.000000</td>\n    </tr>\n    <tr>\n      <th>6</th>\n      <td>BlackBerry</td>\n      <td>142</td>\n      <td>0.000224</td>\n      <td>0.000000e+00</td>\n      <td>0</td>\n      <td>0.000000</td>\n      <td>0.000000</td>\n    </tr>\n    <tr>\n      <th>7</th>\n      <td>CSM Click</td>\n      <td>1</td>\n      <td>0.000002</td>\n      <td>0.000000e+00</td>\n      <td>0</td>\n      <td>0.000000</td>\n      <td>0.000000</td>\n    </tr>\n    <tr>\n      <th>8</th>\n      <td>Chrome</td>\n      <td>425920</td>\n      <td>0.673331</td>\n      <td>9.226518e+11</td>\n      <td>6672</td>\n      <td>0.917881</td>\n      <td>0.895330</td>\n    </tr>\n    <tr>\n      <th>9</th>\n      <td>Coc Coc</td>\n      <td>546</td>\n      <td>0.000863</td>\n      <td>0.000000e+00</td>\n      <td>0</td>\n      <td>0.000000</td>\n      <td>0.000000</td>\n    </tr>\n    <tr>\n      <th>10</th>\n      <td>DASH_JR_3G</td>\n      <td>1</td>\n      <td>0.000002</td>\n      <td>0.000000e+00</td>\n      <td>0</td>\n      <td>0.000000</td>\n      <td>0.000000</td>\n    </tr>\n    <tr>\n      <th>11</th>\n      <td>DoCoMo</td>\n      <td>1</td>\n      <td>0.000002</td>\n      <td>0.000000e+00</td>\n      <td>0</td>\n      <td>0.000000</td>\n      <td>0.000000</td>\n    </tr>\n    <tr>\n      <th>12</th>\n      <td>Edge</td>\n      <td>6990</td>\n      <td>0.011050</td>\n      <td>4.527070e+09</td>\n      <td>42</td>\n      <td>0.004504</td>\n      <td>0.005636</td>\n    </tr>\n    <tr>\n      <th>13</th>\n      <td>Firefox</td>\n      <td>26078</td>\n      <td>0.041226</td>\n      <td>3.470893e+10</td>\n      <td>125</td>\n      <td>0.034529</td>\n      <td>0.016774</td>\n    </tr>\n    <tr>\n      <th>14</th>\n      <td>HTC802t_TD</td>\n      <td>1</td>\n      <td>0.000002</td>\n      <td>0.000000e+00</td>\n      <td>0</td>\n      <td>0.000000</td>\n      <td>0.000000</td>\n    </tr>\n    <tr>\n      <th>15</th>\n      <td>Hisense M20-M_LTE</td>\n      <td>1</td>\n      <td>0.000002</td>\n      <td>0.000000e+00</td>\n      <td>0</td>\n      <td>0.000000</td>\n      <td>0.000000</td>\n    </tr>\n    <tr>\n      <th>16</th>\n      <td>Internet Explorer</td>\n      <td>14077</td>\n      <td>0.022254</td>\n      <td>4.314760e+09</td>\n      <td>81</td>\n      <td>0.004292</td>\n      <td>0.010870</td>\n    </tr>\n    <tr>\n      <th>17</th>\n      <td>Iron</td>\n      <td>29</td>\n      <td>0.000046</td>\n      <td>0.000000e+00</td>\n      <td>0</td>\n      <td>0.000000</td>\n      <td>0.000000</td>\n    </tr>\n    <tr>\n      <th>18</th>\n      <td>Konqueror</td>\n      <td>1</td>\n      <td>0.000002</td>\n      <td>0.000000e+00</td>\n      <td>0</td>\n      <td>0.000000</td>\n      <td>0.000000</td>\n    </tr>\n    <tr>\n      <th>19</th>\n      <td>LYF_LS_4002_11</td>\n      <td>3</td>\n      <td>0.000005</td>\n      <td>0.000000e+00</td>\n      <td>0</td>\n      <td>0.000000</td>\n      <td>0.000000</td>\n    </tr>\n    <tr>\n      <th>20</th>\n      <td>LYF_LS_4002_12</td>\n      <td>20</td>\n      <td>0.000032</td>\n      <td>0.000000e+00</td>\n      <td>0</td>\n      <td>0.000000</td>\n      <td>0.000000</td>\n    </tr>\n    <tr>\n      <th>21</th>\n      <td>Lunascape</td>\n      <td>5</td>\n      <td>0.000008</td>\n      <td>0.000000e+00</td>\n      <td>0</td>\n      <td>0.000000</td>\n      <td>0.000000</td>\n    </tr>\n    <tr>\n      <th>22</th>\n      <td>MQQBrowser</td>\n      <td>2</td>\n      <td>0.000003</td>\n      <td>0.000000e+00</td>\n      <td>0</td>\n      <td>0.000000</td>\n      <td>0.000000</td>\n    </tr>\n    <tr>\n      <th>23</th>\n      <td>MRCHROME</td>\n      <td>235</td>\n      <td>0.000372</td>\n      <td>0.000000e+00</td>\n      <td>0</td>\n      <td>0.000000</td>\n      <td>0.000000</td>\n    </tr>\n    <tr>\n      <th>24</th>\n      <td>Maxthon</td>\n      <td>174</td>\n      <td>0.000275</td>\n      <td>0.000000e+00</td>\n      <td>0</td>\n      <td>0.000000</td>\n      <td>0.000000</td>\n    </tr>\n    <tr>\n      <th>25</th>\n      <td>Mozilla</td>\n      <td>9</td>\n      <td>0.000014</td>\n      <td>0.000000e+00</td>\n      <td>0</td>\n      <td>0.000000</td>\n      <td>0.000000</td>\n    </tr>\n    <tr>\n      <th>26</th>\n      <td>Mozilla Compatible Agent</td>\n      <td>247</td>\n      <td>0.000390</td>\n      <td>0.000000e+00</td>\n      <td>0</td>\n      <td>0.000000</td>\n      <td>0.000000</td>\n    </tr>\n    <tr>\n      <th>27</th>\n      <td>Nichrome</td>\n      <td>7</td>\n      <td>0.000011</td>\n      <td>0.000000e+00</td>\n      <td>0</td>\n      <td>0.000000</td>\n      <td>0.000000</td>\n    </tr>\n    <tr>\n      <th>28</th>\n      <td>Nintendo Browser</td>\n      <td>122</td>\n      <td>0.000193</td>\n      <td>0.000000e+00</td>\n      <td>0</td>\n      <td>0.000000</td>\n      <td>0.000000</td>\n    </tr>\n    <tr>\n      <th>29</th>\n      <td>Nokia Browser</td>\n      <td>57</td>\n      <td>0.000090</td>\n      <td>0.000000e+00</td>\n      <td>0</td>\n      <td>0.000000</td>\n      <td>0.000000</td>\n    </tr>\n    <tr>\n      <th>30</th>\n      <td>NokiaE52-1</td>\n      <td>2</td>\n      <td>0.000003</td>\n      <td>0.000000e+00</td>\n      <td>0</td>\n      <td>0.000000</td>\n      <td>0.000000</td>\n    </tr>\n    <tr>\n      <th>31</th>\n      <td>Opera</td>\n      <td>4494</td>\n      <td>0.007104</td>\n      <td>1.018700e+08</td>\n      <td>3</td>\n      <td>0.000101</td>\n      <td>0.000403</td>\n    </tr>\n    <tr>\n      <th>32</th>\n      <td>Opera Mini</td>\n      <td>4168</td>\n      <td>0.006589</td>\n      <td>0.000000e+00</td>\n      <td>0</td>\n      <td>0.000000</td>\n      <td>0.000000</td>\n    </tr>\n    <tr>\n      <th>33</th>\n      <td>Puffin</td>\n      <td>53</td>\n      <td>0.000084</td>\n      <td>0.000000e+00</td>\n      <td>0</td>\n      <td>0.000000</td>\n      <td>0.000000</td>\n    </tr>\n    <tr>\n      <th>34</th>\n      <td>Reddit</td>\n      <td>1</td>\n      <td>0.000002</td>\n      <td>0.000000e+00</td>\n      <td>0</td>\n      <td>0.000000</td>\n      <td>0.000000</td>\n    </tr>\n    <tr>\n      <th>35</th>\n      <td>Safari</td>\n      <td>136846</td>\n      <td>0.216338</td>\n      <td>3.871209e+10</td>\n      <td>517</td>\n      <td>0.038512</td>\n      <td>0.069377</td>\n    </tr>\n    <tr>\n      <th>36</th>\n      <td>Safari (in-app)</td>\n      <td>4192</td>\n      <td>0.006627</td>\n      <td>8.585000e+07</td>\n      <td>6</td>\n      <td>0.000085</td>\n      <td>0.000805</td>\n    </tr>\n    <tr>\n      <th>37</th>\n      <td>SeaMonkey</td>\n      <td>11</td>\n      <td>0.000017</td>\n      <td>0.000000e+00</td>\n      <td>0</td>\n      <td>0.000000</td>\n      <td>0.000000</td>\n    </tr>\n    <tr>\n      <th>38</th>\n      <td>Seznam</td>\n      <td>8</td>\n      <td>0.000013</td>\n      <td>0.000000e+00</td>\n      <td>0</td>\n      <td>0.000000</td>\n      <td>0.000000</td>\n    </tr>\n    <tr>\n      <th>39</th>\n      <td>TCL P500M</td>\n      <td>1</td>\n      <td>0.000002</td>\n      <td>0.000000e+00</td>\n      <td>0</td>\n      <td>0.000000</td>\n      <td>0.000000</td>\n    </tr>\n    <tr>\n      <th>40</th>\n      <td>ThumbSniper</td>\n      <td>3</td>\n      <td>0.000005</td>\n      <td>0.000000e+00</td>\n      <td>0</td>\n      <td>0.000000</td>\n      <td>0.000000</td>\n    </tr>\n    <tr>\n      <th>41</th>\n      <td>UC Browser</td>\n      <td>1395</td>\n      <td>0.002205</td>\n      <td>0.000000e+00</td>\n      <td>0</td>\n      <td>0.000000</td>\n      <td>0.000000</td>\n    </tr>\n    <tr>\n      <th>42</th>\n      <td>User Agent</td>\n      <td>1</td>\n      <td>0.000002</td>\n      <td>0.000000e+00</td>\n      <td>0</td>\n      <td>0.000000</td>\n      <td>0.000000</td>\n    </tr>\n    <tr>\n      <th>43</th>\n      <td>YE</td>\n      <td>2</td>\n      <td>0.000003</td>\n      <td>0.000000e+00</td>\n      <td>0</td>\n      <td>0.000000</td>\n      <td>0.000000</td>\n    </tr>\n    <tr>\n      <th>44</th>\n      <td>YaBrowser</td>\n      <td>1744</td>\n      <td>0.002757</td>\n      <td>0.000000e+00</td>\n      <td>0</td>\n      <td>0.000000</td>\n      <td>0.000000</td>\n    </tr>\n    <tr>\n      <th>45</th>\n      <td>no-ua</td>\n      <td>3</td>\n      <td>0.000005</td>\n      <td>0.000000e+00</td>\n      <td>0</td>\n      <td>0.000000</td>\n      <td>0.000000</td>\n    </tr>\n    <tr>\n      <th>46</th>\n      <td>osee2unifiedRelease</td>\n      <td>4</td>\n      <td>0.000006</td>\n      <td>0.000000e+00</td>\n      <td>0</td>\n      <td>0.000000</td>\n      <td>0.000000</td>\n    </tr>\n    <tr>\n      <th>47</th>\n      <td>subjectAgent: NoticiasBoom</td>\n      <td>1</td>\n      <td>0.000002</td>\n      <td>0.000000e+00</td>\n      <td>0</td>\n      <td>0.000000</td>\n      <td>0.000000</td>\n    </tr>\n  </tbody>\n</table>\n</div>"
          },
          "metadata": {}
        }
      ]
    },
    {
      "metadata": {
        "trusted": true,
        "_uuid": "4db6767d501917f2a2fc33bbb201cb8e79078b75"
      },
      "cell_type": "code",
      "source": "### device category \n\ncount_distribution(train,'device.deviceCategory')",
      "execution_count": null,
      "outputs": []
    },
    {
      "metadata": {
        "trusted": true,
        "_uuid": "d9b2fc2e57fa143dc8e3fe8490f0ec9219b3788a"
      },
      "cell_type": "code",
      "source": "### device OS\n\n# most OS are either Mac 30%, Windows 40% and Android 12% and iOS 10% and Chrome OS 2% everything else can be encoded AS OTHER\n\ncount_distribution(train,'device.operatingSystem')",
      "execution_count": null,
      "outputs": []
    },
    {
      "metadata": {
        "_uuid": "d790036012e6ee33be4b2f8084b532ec4be0b7a0"
      },
      "cell_type": "markdown",
      "source": "## NaN count"
    },
    {
      "metadata": {
        "trusted": true,
        "_uuid": "ee2363128ae6b4c040e7d6f8ddea6f40b3ab26a4"
      },
      "cell_type": "code",
      "source": "NaN_value_count(train)",
      "execution_count": null,
      "outputs": []
    },
    {
      "metadata": {
        "_uuid": "4f6ea303dd0f0937bc8c82c4e700452e697474d8"
      },
      "cell_type": "markdown",
      "source": "# Analysing the predictor variable"
    },
    {
      "metadata": {
        "trusted": true,
        "_uuid": "1b5ac1b4ef2562ff1a4db44736b6dce519bc05c1"
      },
      "cell_type": "code",
      "source": "non_null_transaction_values = train[~train['totals.transactionRevenue'].isnull()]['totals.transactionRevenue']\n",
      "execution_count": null,
      "outputs": []
    },
    {
      "metadata": {
        "trusted": true,
        "_uuid": "9541e91f0fba70bc53eae0f28f5ae483eb88baaf"
      },
      "cell_type": "code",
      "source": "sns.distplot(non_null_transaction_values, kde=False, rug = True)",
      "execution_count": null,
      "outputs": []
    },
    {
      "metadata": {
        "_uuid": "c2a3277bb3bd48e1c71c1c738f2c734823b3c981"
      },
      "cell_type": "markdown",
      "source": "# Test"
    },
    {
      "metadata": {
        "trusted": true,
        "_uuid": "90d97a50ad4cd2bf80438cf3d50bfea8afa9e392"
      },
      "cell_type": "code",
      "source": "g = lambda x : 1 if x>0 else 0 ",
      "execution_count": 44,
      "outputs": []
    },
    {
      "metadata": {
        "trusted": true,
        "_uuid": "7f43aa885a65bc002c9fc7dc1a779ee1dbfdaf51"
      },
      "cell_type": "code",
      "source": "g(-100)",
      "execution_count": 46,
      "outputs": [
        {
          "output_type": "execute_result",
          "execution_count": 46,
          "data": {
            "text/plain": "0"
          },
          "metadata": {}
        }
      ]
    },
    {
      "metadata": {
        "trusted": true,
        "_uuid": "218592d562237bc5e01ed468d3ac6845ba71d18c"
      },
      "cell_type": "code",
      "source": "train_df[\"totals.transactionRevenue\"] = train_df[\"totals.transactionRevenue\"].astype('float')",
      "execution_count": null,
      "outputs": []
    },
    {
      "metadata": {
        "trusted": true,
        "_uuid": "fdaffada2d8ce5c78999e358cd6da7367ece38db"
      },
      "cell_type": "code",
      "source": "df_example.head()",
      "execution_count": null,
      "outputs": []
    },
    {
      "metadata": {
        "trusted": true,
        "_uuid": "904b1ce25270907f25bfa3a3af2cd4bc29089f4b"
      },
      "cell_type": "code",
      "source": "date_time_conversion(df_example, 'date', day=1)",
      "execution_count": null,
      "outputs": []
    },
    {
      "metadata": {
        "trusted": true,
        "_uuid": "5eeaa74958eb4f2460ed424a702381145933a226"
      },
      "cell_type": "markdown",
      "source": "* There are 55 columns in the data set we need to remove ones where the values are all indentical. "
    },
    {
      "metadata": {
        "trusted": true,
        "_uuid": "0c6120988790e5eef06fc2e62329bc5ef226ea17"
      },
      "cell_type": "code",
      "source": "D = pd.DataFrame(np.arange(10))",
      "execution_count": null,
      "outputs": []
    },
    {
      "metadata": {
        "trusted": true,
        "_uuid": "239c0048c8e54b610918afeb2e12ac94a2213270"
      },
      "cell_type": "code",
      "source": "D.iloc[0:3]",
      "execution_count": null,
      "outputs": []
    },
    {
      "metadata": {
        "trusted": true,
        "_uuid": "ab85530ae1d123d982cf4ffec0de30dbb6be0c48"
      },
      "cell_type": "code",
      "source": "train[~train['totals.transactionRevenue'].isna()].fullVisitorId.unique().shape",
      "execution_count": null,
      "outputs": []
    },
    {
      "metadata": {
        "trusted": true,
        "_uuid": "5b2ca614990eec9aa3895a7c1ebe4061d0ba161c"
      },
      "cell_type": "code",
      "source": "sample  = pd.read_csv(\"../input/sample_submission.csv\")",
      "execution_count": null,
      "outputs": []
    },
    {
      "metadata": {
        "trusted": true,
        "_uuid": "91e2d763056b31acfcd3f5b4f4471a0f74e06656"
      },
      "cell_type": "code",
      "source": "sample.head()",
      "execution_count": null,
      "outputs": []
    },
    {
      "metadata": {
        "trusted": true,
        "_uuid": "43ad278d1721d60850b5952d18dcf76de4ca187a"
      },
      "cell_type": "code",
      "source": "sample.fullVisitorId.unique().shape",
      "execution_count": null,
      "outputs": []
    },
    {
      "metadata": {
        "trusted": true,
        "_uuid": "07e9c0077c36379c2668aeb8d776e783803dadf6"
      },
      "cell_type": "code",
      "source": "sample.shape",
      "execution_count": null,
      "outputs": []
    },
    {
      "metadata": {
        "trusted": true,
        "_uuid": "64506009309b5dd6e9dc499ca804f7a9ae0b0bc0"
      },
      "cell_type": "code",
      "source": "test.shape",
      "execution_count": null,
      "outputs": []
    },
    {
      "metadata": {
        "trusted": true,
        "_uuid": "c060654e8d14ae8b0ac60bdcf12400c6b805b75a"
      },
      "cell_type": "code",
      "source": "train.shape",
      "execution_count": null,
      "outputs": []
    },
    {
      "metadata": {
        "trusted": true,
        "_uuid": "481ba64f9c621434fb48fec40d829f6f82847b09"
      },
      "cell_type": "code",
      "source": "from matplotlib import pyplot as plt\nimport seaborn as sns\n\nplt.figure(figsize=(15,8))\nax = sns.countplot(x=\"device.browser\",data=train)",
      "execution_count": null,
      "outputs": []
    },
    {
      "metadata": {
        "trusted": true,
        "_uuid": "00cbec26c9524a0dd9e9f4482814e425cf25d0ec"
      },
      "cell_type": "code",
      "source": "def count_distribution(dataFrame,column):\n    column_count = pd.Series.to_frame(dataFrame.groupby(column).size(),'count')\n    column_count.reset_index(inplace = True)\n    total = column_count['count'].sum()\n    column_count['proportion'] = column_count['count']/total\n    return column_count\n\n    ",
      "execution_count": null,
      "outputs": []
    },
    {
      "metadata": {
        "trusted": true,
        "_uuid": "f966447adb5a65b8e12ec4bf1026a65dea71d946"
      },
      "cell_type": "code",
      "source": "count_distribution(train,'device.browser')",
      "execution_count": null,
      "outputs": []
    }
  ],
  "metadata": {
    "kernelspec": {
      "display_name": "Python 3",
      "language": "python",
      "name": "python3"
    },
    "language_info": {
      "name": "python",
      "version": "3.6.6",
      "mimetype": "text/x-python",
      "codemirror_mode": {
        "name": "ipython",
        "version": 3
      },
      "pygments_lexer": "ipython3",
      "nbconvert_exporter": "python",
      "file_extension": ".py"
    }
  },
  "nbformat": 4,
  "nbformat_minor": 1
}